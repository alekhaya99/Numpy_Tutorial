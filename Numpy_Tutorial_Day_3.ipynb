{
  "nbformat": 4,
  "nbformat_minor": 0,
  "metadata": {
    "colab": {
      "name": "Numpy_Tutorial_Day 3",
      "provenance": [],
      "authorship_tag": "ABX9TyMuJKhEPZMefv03DFvAmtMZ",
      "include_colab_link": true
    },
    "kernelspec": {
      "name": "python3",
      "display_name": "Python 3"
    }
  },
  "cells": [
    {
      "cell_type": "markdown",
      "metadata": {
        "id": "view-in-github",
        "colab_type": "text"
      },
      "source": [
        "<a href=\"https://colab.research.google.com/github/alekhaya99/Numpy_Tutorial/blob/master/Numpy_Tutorial_Day_3.ipynb\" target=\"_parent\"><img src=\"https://colab.research.google.com/assets/colab-badge.svg\" alt=\"Open In Colab\"/></a>"
      ]
    },
    {
      "cell_type": "code",
      "metadata": {
        "id": "orE_rZlcfkDN",
        "colab_type": "code",
        "colab": {}
      },
      "source": [
        "import numpy as np"
      ],
      "execution_count": 1,
      "outputs": []
    },
    {
      "cell_type": "markdown",
      "metadata": {
        "id": "v49bgTWzfpB3",
        "colab_type": "text"
      },
      "source": [
        "# Boolean Indexing"
      ]
    },
    {
      "cell_type": "code",
      "metadata": {
        "id": "1AEbUl3CgXx2",
        "colab_type": "code",
        "colab": {
          "base_uri": "https://localhost:8080/",
          "height": 153
        },
        "outputId": "83d4a02a-0d6c-450e-c9de-bcd75e1743f6"
      },
      "source": [
        "#Generates random data\n",
        "data=np.random.rand(8,4)\n",
        "data"
      ],
      "execution_count": 6,
      "outputs": [
        {
          "output_type": "execute_result",
          "data": {
            "text/plain": [
              "array([[0.13841895, 0.36143924, 0.94134289, 0.12158192],\n",
              "       [0.87231009, 0.88284935, 0.19338429, 0.58153126],\n",
              "       [0.01216891, 0.62434483, 0.39364425, 0.0600868 ],\n",
              "       [0.14174842, 0.9003343 , 0.75306152, 0.12117729],\n",
              "       [0.22355623, 0.31537445, 0.90923265, 0.60765076],\n",
              "       [0.17256522, 0.88513981, 0.1923563 , 0.86124337],\n",
              "       [0.99533709, 0.71818946, 0.80791261, 0.70609597],\n",
              "       [0.20415417, 0.19641235, 0.72685807, 0.64360684]])"
            ]
          },
          "metadata": {
            "tags": []
          },
          "execution_count": 6
        }
      ]
    },
    {
      "cell_type": "code",
      "metadata": {
        "id": "XDJN4LvmfoTK",
        "colab_type": "code",
        "colab": {
          "base_uri": "https://localhost:8080/",
          "height": 51
        },
        "outputId": "c785b492-89a0-40bf-ad42-f79ee74a6355"
      },
      "source": [
        "Fruits=np.array(['Apple','Pineapple','Orange','Grapes','Orange','Grapes','Pineapple','Apple'])\n",
        "Fruits"
      ],
      "execution_count": 7,
      "outputs": [
        {
          "output_type": "execute_result",
          "data": {
            "text/plain": [
              "array(['Apple', 'Pineapple', 'Orange', 'Grapes', 'Orange', 'Grapes',\n",
              "       'Pineapple', 'Apple'], dtype='<U9')"
            ]
          },
          "metadata": {
            "tags": []
          },
          "execution_count": 7
        }
      ]
    },
    {
      "cell_type": "code",
      "metadata": {
        "id": "UWe16kTUgm1j",
        "colab_type": "code",
        "colab": {
          "base_uri": "https://localhost:8080/",
          "height": 34
        },
        "outputId": "22df8191-f694-4c85-b198-c9fe23a69cca"
      },
      "source": [
        "#We can compare a particular name in an array and it will return true or false\n",
        "Fruits=='Apple'"
      ],
      "execution_count": 8,
      "outputs": [
        {
          "output_type": "execute_result",
          "data": {
            "text/plain": [
              "array([ True, False, False, False, False, False, False,  True])"
            ]
          },
          "metadata": {
            "tags": []
          },
          "execution_count": 8
        }
      ]
    },
    {
      "cell_type": "code",
      "metadata": {
        "id": "JW2tglW3hYrB",
        "colab_type": "code",
        "colab": {
          "base_uri": "https://localhost:8080/",
          "height": 51
        },
        "outputId": "b6e12921-7e55-405c-c0f5-aaa3a7130b3d"
      },
      "source": [
        "#Boolean array could be passed while indexing an array\n",
        "data[Fruits=='Apple']\n",
        "''' Notice the row of the 'data' and the column of Fruits, Apple is only in the 0th and 7th Column of the array\n",
        "We passed the Apple in the above argumennt and it return the 0th row and the 7th row of the column '''"
      ],
      "execution_count": 9,
      "outputs": [
        {
          "output_type": "execute_result",
          "data": {
            "text/plain": [
              "array([[0.13841895, 0.36143924, 0.94134289, 0.12158192],\n",
              "       [0.20415417, 0.19641235, 0.72685807, 0.64360684]])"
            ]
          },
          "metadata": {
            "tags": []
          },
          "execution_count": 9
        }
      ]
    },
    {
      "cell_type": "code",
      "metadata": {
        "id": "dy9J_L0Khz0B",
        "colab_type": "code",
        "colab": {
          "base_uri": "https://localhost:8080/",
          "height": 51
        },
        "outputId": "e18e93db-b928-41e4-dd07-77328890c61d"
      },
      "source": [
        "data[Fruits=='Apple',1:]"
      ],
      "execution_count": 11,
      "outputs": [
        {
          "output_type": "execute_result",
          "data": {
            "text/plain": [
              "array([[0.36143924, 0.94134289, 0.12158192],\n",
              "       [0.19641235, 0.72685807, 0.64360684]])"
            ]
          },
          "metadata": {
            "tags": []
          },
          "execution_count": 11
        }
      ]
    },
    {
      "cell_type": "code",
      "metadata": {
        "id": "T39WIHb7ip93",
        "colab_type": "code",
        "colab": {
          "base_uri": "https://localhost:8080/",
          "height": 34
        },
        "outputId": "d9c38b04-0871-45af-8b1e-04de0e546623"
      },
      "source": [
        "Fruits!='Apple'"
      ],
      "execution_count": 12,
      "outputs": [
        {
          "output_type": "execute_result",
          "data": {
            "text/plain": [
              "array([False,  True,  True,  True,  True,  True,  True, False])"
            ]
          },
          "metadata": {
            "tags": []
          },
          "execution_count": 12
        }
      ]
    },
    {
      "cell_type": "code",
      "metadata": {
        "id": "KVzEcVLCjJuu",
        "colab_type": "code",
        "colab": {
          "base_uri": "https://localhost:8080/",
          "height": 119
        },
        "outputId": "b4d476e8-89ca-4910-8cd4-ec0d12f6f6a6"
      },
      "source": [
        "data[Fruits!='Apple']"
      ],
      "execution_count": 13,
      "outputs": [
        {
          "output_type": "execute_result",
          "data": {
            "text/plain": [
              "array([[0.87231009, 0.88284935, 0.19338429, 0.58153126],\n",
              "       [0.01216891, 0.62434483, 0.39364425, 0.0600868 ],\n",
              "       [0.14174842, 0.9003343 , 0.75306152, 0.12117729],\n",
              "       [0.22355623, 0.31537445, 0.90923265, 0.60765076],\n",
              "       [0.17256522, 0.88513981, 0.1923563 , 0.86124337],\n",
              "       [0.99533709, 0.71818946, 0.80791261, 0.70609597]])"
            ]
          },
          "metadata": {
            "tags": []
          },
          "execution_count": 13
        }
      ]
    },
    {
      "cell_type": "code",
      "metadata": {
        "id": "_7uhpWEtjRaW",
        "colab_type": "code",
        "colab": {
          "base_uri": "https://localhost:8080/",
          "height": 119
        },
        "outputId": "f93f23b6-fd9e-4b32-94ff-437e95984081"
      },
      "source": [
        "data[~(Fruits=='Apple')]\n",
        "''' Notice the '~' operator, it is used to invert the general conditions '''"
      ],
      "execution_count": 14,
      "outputs": [
        {
          "output_type": "execute_result",
          "data": {
            "text/plain": [
              "array([[0.87231009, 0.88284935, 0.19338429, 0.58153126],\n",
              "       [0.01216891, 0.62434483, 0.39364425, 0.0600868 ],\n",
              "       [0.14174842, 0.9003343 , 0.75306152, 0.12117729],\n",
              "       [0.22355623, 0.31537445, 0.90923265, 0.60765076],\n",
              "       [0.17256522, 0.88513981, 0.1923563 , 0.86124337],\n",
              "       [0.99533709, 0.71818946, 0.80791261, 0.70609597]])"
            ]
          },
          "metadata": {
            "tags": []
          },
          "execution_count": 14
        }
      ]
    },
    {
      "cell_type": "code",
      "metadata": {
        "id": "z_9DKHACjjo9",
        "colab_type": "code",
        "colab": {
          "base_uri": "https://localhost:8080/",
          "height": 119
        },
        "outputId": "d31ea347-2653-4c86-fea2-d4121c085a96"
      },
      "source": [
        "cond=Fruits=='Apple'\n",
        "data[~cond]"
      ],
      "execution_count": 15,
      "outputs": [
        {
          "output_type": "execute_result",
          "data": {
            "text/plain": [
              "array([[0.87231009, 0.88284935, 0.19338429, 0.58153126],\n",
              "       [0.01216891, 0.62434483, 0.39364425, 0.0600868 ],\n",
              "       [0.14174842, 0.9003343 , 0.75306152, 0.12117729],\n",
              "       [0.22355623, 0.31537445, 0.90923265, 0.60765076],\n",
              "       [0.17256522, 0.88513981, 0.1923563 , 0.86124337],\n",
              "       [0.99533709, 0.71818946, 0.80791261, 0.70609597]])"
            ]
          },
          "metadata": {
            "tags": []
          },
          "execution_count": 15
        }
      ]
    },
    {
      "cell_type": "code",
      "metadata": {
        "id": "HDQsslJ0kChU",
        "colab_type": "code",
        "colab": {
          "base_uri": "https://localhost:8080/",
          "height": 34
        },
        "outputId": "fdc8da1b-93d4-4de1-bfed-978cb096fe84"
      },
      "source": [
        "''' If we want pass multiple conditions then it is always useful to take the '| (or)' '&(and)' operator '''\n",
        "ExampleOr=(Fruits=='Apple')|(Fruits=='Orange')\n",
        "ExampleOr"
      ],
      "execution_count": 17,
      "outputs": [
        {
          "output_type": "execute_result",
          "data": {
            "text/plain": [
              "array([ True, False,  True, False,  True, False, False,  True])"
            ]
          },
          "metadata": {
            "tags": []
          },
          "execution_count": 17
        }
      ]
    },
    {
      "cell_type": "code",
      "metadata": {
        "id": "Pp_oCcPWmLQs",
        "colab_type": "code",
        "colab": {
          "base_uri": "https://localhost:8080/",
          "height": 85
        },
        "outputId": "3c416f0b-819f-489a-fef3-c1211eca34c1"
      },
      "source": [
        "data[ExampleOr]"
      ],
      "execution_count": 18,
      "outputs": [
        {
          "output_type": "execute_result",
          "data": {
            "text/plain": [
              "array([[0.13841895, 0.36143924, 0.94134289, 0.12158192],\n",
              "       [0.01216891, 0.62434483, 0.39364425, 0.0600868 ],\n",
              "       [0.22355623, 0.31537445, 0.90923265, 0.60765076],\n",
              "       [0.20415417, 0.19641235, 0.72685807, 0.64360684]])"
            ]
          },
          "metadata": {
            "tags": []
          },
          "execution_count": 18
        }
      ]
    },
    {
      "cell_type": "code",
      "metadata": {
        "id": "XgjiZCJBmTTP",
        "colab_type": "code",
        "colab": {
          "base_uri": "https://localhost:8080/",
          "height": 153
        },
        "outputId": "bb1f51fc-156a-4951-c853-3cece2c908f9"
      },
      "source": [
        "data[data<0.3]=0\n",
        "data"
      ],
      "execution_count": 20,
      "outputs": [
        {
          "output_type": "execute_result",
          "data": {
            "text/plain": [
              "array([[0.        , 0.36143924, 0.94134289, 0.        ],\n",
              "       [0.87231009, 0.88284935, 0.        , 0.58153126],\n",
              "       [0.        , 0.62434483, 0.39364425, 0.        ],\n",
              "       [0.        , 0.9003343 , 0.75306152, 0.        ],\n",
              "       [0.        , 0.31537445, 0.90923265, 0.60765076],\n",
              "       [0.        , 0.88513981, 0.        , 0.86124337],\n",
              "       [0.99533709, 0.71818946, 0.80791261, 0.70609597],\n",
              "       [0.        , 0.        , 0.72685807, 0.64360684]])"
            ]
          },
          "metadata": {
            "tags": []
          },
          "execution_count": 20
        }
      ]
    },
    {
      "cell_type": "code",
      "metadata": {
        "id": "1C1H562DmnFg",
        "colab_type": "code",
        "colab": {
          "base_uri": "https://localhost:8080/",
          "height": 153
        },
        "outputId": "72833c4d-f3c8-4492-fc67-62e9d1f319ea"
      },
      "source": [
        "#Setting the whole or rows or columns with a one Dimensional Array is also easy\n",
        "data[Fruits!='Orange']=7\n",
        "data"
      ],
      "execution_count": 22,
      "outputs": [
        {
          "output_type": "execute_result",
          "data": {
            "text/plain": [
              "array([[7.        , 7.        , 7.        , 7.        ],\n",
              "       [7.        , 7.        , 7.        , 7.        ],\n",
              "       [0.        , 0.62434483, 0.39364425, 0.        ],\n",
              "       [7.        , 7.        , 7.        , 7.        ],\n",
              "       [0.        , 0.31537445, 0.90923265, 0.60765076],\n",
              "       [7.        , 7.        , 7.        , 7.        ],\n",
              "       [7.        , 7.        , 7.        , 7.        ],\n",
              "       [7.        , 7.        , 7.        , 7.        ]])"
            ]
          },
          "metadata": {
            "tags": []
          },
          "execution_count": 22
        }
      ]
    },
    {
      "cell_type": "markdown",
      "metadata": {
        "id": "rwEiGYrjnZwo",
        "colab_type": "text"
      },
      "source": [
        "# Fancy Indexing"
      ]
    },
    {
      "cell_type": "markdown",
      "metadata": {
        "id": "ImkNS9YynguX",
        "colab_type": "text"
      },
      "source": [
        "Fancy Indexing is a term adopted by NumPy top describe using integer arrays"
      ]
    },
    {
      "cell_type": "code",
      "metadata": {
        "id": "M9qQtM_FnPcf",
        "colab_type": "code",
        "colab": {}
      },
      "source": [
        "array=np.empty((8,4))"
      ],
      "execution_count": 23,
      "outputs": []
    },
    {
      "cell_type": "code",
      "metadata": {
        "id": "gH37Kxh0n01t",
        "colab_type": "code",
        "colab": {
          "base_uri": "https://localhost:8080/",
          "height": 153
        },
        "outputId": "09d223cc-d4c5-417f-82c3-d396e2c14697"
      },
      "source": [
        "for i in range(8):\n",
        "  array[i]=i\n",
        "array"
      ],
      "execution_count": 24,
      "outputs": [
        {
          "output_type": "execute_result",
          "data": {
            "text/plain": [
              "array([[0., 0., 0., 0.],\n",
              "       [1., 1., 1., 1.],\n",
              "       [2., 2., 2., 2.],\n",
              "       [3., 3., 3., 3.],\n",
              "       [4., 4., 4., 4.],\n",
              "       [5., 5., 5., 5.],\n",
              "       [6., 6., 6., 6.],\n",
              "       [7., 7., 7., 7.]])"
            ]
          },
          "metadata": {
            "tags": []
          },
          "execution_count": 24
        }
      ]
    },
    {
      "cell_type": "code",
      "metadata": {
        "id": "MIDntCzZn_cF",
        "colab_type": "code",
        "colab": {
          "base_uri": "https://localhost:8080/",
          "height": 85
        },
        "outputId": "1d75e333-37b1-4f92-f2af-dab97019e777"
      },
      "source": [
        "''' In order to select out a subsrt of rows in a particular order, we can simply pass a list \n",
        "or ndarray of integer specifying the desired order '''\n",
        "array[[4,3,0,6]] "
      ],
      "execution_count": 26,
      "outputs": [
        {
          "output_type": "execute_result",
          "data": {
            "text/plain": [
              "array([[4., 4., 4., 4.],\n",
              "       [3., 3., 3., 3.],\n",
              "       [0., 0., 0., 0.],\n",
              "       [6., 6., 6., 6.]])"
            ]
          },
          "metadata": {
            "tags": []
          },
          "execution_count": 26
        }
      ]
    },
    {
      "cell_type": "code",
      "metadata": {
        "id": "O3yIWai_o88C",
        "colab_type": "code",
        "colab": {
          "base_uri": "https://localhost:8080/",
          "height": 68
        },
        "outputId": "cecd596b-0119-4b72-a78c-8999e5ce9c5d"
      },
      "source": [
        "#Using negative indices it selects rows from the end\n",
        "array[[-3,-5,-7]]"
      ],
      "execution_count": 27,
      "outputs": [
        {
          "output_type": "execute_result",
          "data": {
            "text/plain": [
              "array([[5., 5., 5., 5.],\n",
              "       [3., 3., 3., 3.],\n",
              "       [1., 1., 1., 1.]])"
            ]
          },
          "metadata": {
            "tags": []
          },
          "execution_count": 27
        }
      ]
    },
    {
      "cell_type": "code",
      "metadata": {
        "id": "663cIssapS9K",
        "colab_type": "code",
        "colab": {
          "base_uri": "https://localhost:8080/",
          "height": 153
        },
        "outputId": "345bd29d-88fa-44de-bd83-ca1d7182e52d"
      },
      "source": [
        "array=np.arange(40).reshape((8,5))\n",
        "array"
      ],
      "execution_count": 29,
      "outputs": [
        {
          "output_type": "execute_result",
          "data": {
            "text/plain": [
              "array([[ 0,  1,  2,  3,  4],\n",
              "       [ 5,  6,  7,  8,  9],\n",
              "       [10, 11, 12, 13, 14],\n",
              "       [15, 16, 17, 18, 19],\n",
              "       [20, 21, 22, 23, 24],\n",
              "       [25, 26, 27, 28, 29],\n",
              "       [30, 31, 32, 33, 34],\n",
              "       [35, 36, 37, 38, 39]])"
            ]
          },
          "metadata": {
            "tags": []
          },
          "execution_count": 29
        }
      ]
    },
    {
      "cell_type": "code",
      "metadata": {
        "id": "jv8NNYbnpwIR",
        "colab_type": "code",
        "colab": {
          "base_uri": "https://localhost:8080/",
          "height": 34
        },
        "outputId": "a1173bdb-36ec-4c3d-f6bb-cf248eca2b1c"
      },
      "source": [
        "array[[1,5,7,2],[0,3,1,2]]"
      ],
      "execution_count": 30,
      "outputs": [
        {
          "output_type": "execute_result",
          "data": {
            "text/plain": [
              "array([ 5, 28, 36, 12])"
            ]
          },
          "metadata": {
            "tags": []
          },
          "execution_count": 30
        }
      ]
    },
    {
      "cell_type": "code",
      "metadata": {
        "id": "04IsfXG8wRTt",
        "colab_type": "code",
        "colab": {
          "base_uri": "https://localhost:8080/",
          "height": 85
        },
        "outputId": "dc133bbd-519e-4a48-f167-ac46fc8e40f4"
      },
      "source": [
        "array[[1,5,7,2]][:,[0,3,1,2,4]]"
      ],
      "execution_count": 31,
      "outputs": [
        {
          "output_type": "execute_result",
          "data": {
            "text/plain": [
              "array([[ 5,  8,  6,  7,  9],\n",
              "       [25, 28, 26, 27, 29],\n",
              "       [35, 38, 36, 37, 39],\n",
              "       [10, 13, 11, 12, 14]])"
            ]
          },
          "metadata": {
            "tags": []
          },
          "execution_count": 31
        }
      ]
    },
    {
      "cell_type": "markdown",
      "metadata": {
        "id": "lstbuw2T3-Lw",
        "colab_type": "text"
      },
      "source": [
        "# Transposing array and swapping axis"
      ]
    },
    {
      "cell_type": "code",
      "metadata": {
        "id": "O_7Yc4rl4MGe",
        "colab_type": "code",
        "colab": {
          "base_uri": "https://localhost:8080/",
          "height": 68
        },
        "outputId": "c198ca04-7540-4b69-ea2e-57218604d144"
      },
      "source": [
        "array1=np.arange(12).reshape((3,4))\n",
        "array1"
      ],
      "execution_count": 32,
      "outputs": [
        {
          "output_type": "execute_result",
          "data": {
            "text/plain": [
              "array([[ 0,  1,  2,  3],\n",
              "       [ 4,  5,  6,  7],\n",
              "       [ 8,  9, 10, 11]])"
            ]
          },
          "metadata": {
            "tags": []
          },
          "execution_count": 32
        }
      ]
    },
    {
      "cell_type": "code",
      "metadata": {
        "id": "GCxJA3zd5OMh",
        "colab_type": "code",
        "colab": {
          "base_uri": "https://localhost:8080/",
          "height": 85
        },
        "outputId": "3cbb0f7a-2a5d-47ab-b90f-570001a540a3"
      },
      "source": [
        "#In order to do transpose of the array\n",
        "array1.T"
      ],
      "execution_count": 33,
      "outputs": [
        {
          "output_type": "execute_result",
          "data": {
            "text/plain": [
              "array([[ 0,  4,  8],\n",
              "       [ 1,  5,  9],\n",
              "       [ 2,  6, 10],\n",
              "       [ 3,  7, 11]])"
            ]
          },
          "metadata": {
            "tags": []
          },
          "execution_count": 33
        }
      ]
    },
    {
      "cell_type": "code",
      "metadata": {
        "id": "cKYur6665a_A",
        "colab_type": "code",
        "colab": {
          "base_uri": "https://localhost:8080/",
          "height": 68
        },
        "outputId": "f96b856a-bdac-422b-f225-987b88d0c2c3"
      },
      "source": [
        "array2=np.random.rand(3,4)\n",
        "array2"
      ],
      "execution_count": 44,
      "outputs": [
        {
          "output_type": "execute_result",
          "data": {
            "text/plain": [
              "array([[0.63852698, 0.04134923, 0.65148689, 0.49124784],\n",
              "       [0.99470577, 0.1963149 , 0.68287313, 0.69786969],\n",
              "       [0.13810681, 0.5565711 , 0.65609387, 0.54498807]])"
            ]
          },
          "metadata": {
            "tags": []
          },
          "execution_count": 44
        }
      ]
    },
    {
      "cell_type": "code",
      "metadata": {
        "id": "_txw-LpE7nYU",
        "colab_type": "code",
        "colab": {
          "base_uri": "https://localhost:8080/",
          "height": 85
        },
        "outputId": "453c7df6-4cc3-4813-dc86-e22da1c50212"
      },
      "source": [
        "#In order to do matrix multiplication\n",
        "np.dot(array1.T,array2)\n"
      ],
      "execution_count": 45,
      "outputs": [
        {
          "output_type": "execute_result",
          "data": {
            "text/plain": [
              "array([[ 5.08367756,  5.23782841,  7.98024347,  7.15138326],\n",
              "       [ 6.85501713,  6.03206363,  9.97069736,  8.88548886],\n",
              "       [ 8.62635669,  6.82629886, 11.96115124, 10.61959445],\n",
              "       [10.39769625,  7.62053409, 13.95160513, 12.35370004]])"
            ]
          },
          "metadata": {
            "tags": []
          },
          "execution_count": 45
        }
      ]
    },
    {
      "cell_type": "code",
      "metadata": {
        "id": "LJscluYd8SFq",
        "colab_type": "code",
        "colab": {
          "base_uri": "https://localhost:8080/",
          "height": 102
        },
        "outputId": "164919dd-9a5c-44ff-962e-caee23e887d7"
      },
      "source": [
        "#To generate a 3D array\n",
        "array3=np.arange(16).reshape((2,2,4))\n",
        "array3"
      ],
      "execution_count": 46,
      "outputs": [
        {
          "output_type": "execute_result",
          "data": {
            "text/plain": [
              "array([[[ 0,  1,  2,  3],\n",
              "        [ 4,  5,  6,  7]],\n",
              "\n",
              "       [[ 8,  9, 10, 11],\n",
              "        [12, 13, 14, 15]]])"
            ]
          },
          "metadata": {
            "tags": []
          },
          "execution_count": 46
        }
      ]
    },
    {
      "cell_type": "code",
      "metadata": {
        "id": "gRuBrEx3B4rC",
        "colab_type": "code",
        "colab": {
          "base_uri": "https://localhost:8080/",
          "height": 102
        },
        "outputId": "bdfa0522-8db8-4853-ab5f-298bd4de3c95"
      },
      "source": [
        "#To do transpose of a 3D array\n",
        "array3.transpose(1,0,2)"
      ],
      "execution_count": 48,
      "outputs": [
        {
          "output_type": "execute_result",
          "data": {
            "text/plain": [
              "array([[[ 0,  1,  2,  3],\n",
              "        [ 8,  9, 10, 11]],\n",
              "\n",
              "       [[ 4,  5,  6,  7],\n",
              "        [12, 13, 14, 15]]])"
            ]
          },
          "metadata": {
            "tags": []
          },
          "execution_count": 48
        }
      ]
    },
    {
      "cell_type": "code",
      "metadata": {
        "id": "vESVRhLeDKQg",
        "colab_type": "code",
        "colab": {
          "base_uri": "https://localhost:8080/",
          "height": 170
        },
        "outputId": "f1406530-b57e-4047-b0a2-81ef43d36e66"
      },
      "source": [
        "#In order to do swap the axes in user defined way\n",
        "array3.swapaxes(1,2)"
      ],
      "execution_count": 49,
      "outputs": [
        {
          "output_type": "execute_result",
          "data": {
            "text/plain": [
              "array([[[ 0,  4],\n",
              "        [ 1,  5],\n",
              "        [ 2,  6],\n",
              "        [ 3,  7]],\n",
              "\n",
              "       [[ 8, 12],\n",
              "        [ 9, 13],\n",
              "        [10, 14],\n",
              "        [11, 15]]])"
            ]
          },
          "metadata": {
            "tags": []
          },
          "execution_count": 49
        }
      ]
    },
    {
      "cell_type": "markdown",
      "metadata": {
        "id": "WleaJ8vkEy0X",
        "colab_type": "text"
      },
      "source": [
        "# Special Mathemetical Function"
      ]
    },
    {
      "cell_type": "code",
      "metadata": {
        "id": "Pq4kHJtWE_QR",
        "colab_type": "code",
        "colab": {
          "base_uri": "https://localhost:8080/",
          "height": 34
        },
        "outputId": "a70d56c0-f80f-446d-9bb2-d421a80a3c71"
      },
      "source": [
        "array=np.arange(10)\n",
        "array"
      ],
      "execution_count": 52,
      "outputs": [
        {
          "output_type": "execute_result",
          "data": {
            "text/plain": [
              "array([0, 1, 2, 3, 4, 5, 6, 7, 8, 9])"
            ]
          },
          "metadata": {
            "tags": []
          },
          "execution_count": 52
        }
      ]
    },
    {
      "cell_type": "code",
      "metadata": {
        "id": "SX509qp9FK75",
        "colab_type": "code",
        "colab": {
          "base_uri": "https://localhost:8080/",
          "height": 51
        },
        "outputId": "88281d1b-9438-4986-d5fa-b4f3d22c0b21"
      },
      "source": [
        "np.sqrt(array)"
      ],
      "execution_count": 53,
      "outputs": [
        {
          "output_type": "execute_result",
          "data": {
            "text/plain": [
              "array([0.        , 1.        , 1.41421356, 1.73205081, 2.        ,\n",
              "       2.23606798, 2.44948974, 2.64575131, 2.82842712, 3.        ])"
            ]
          },
          "metadata": {
            "tags": []
          },
          "execution_count": 53
        }
      ]
    },
    {
      "cell_type": "code",
      "metadata": {
        "id": "ths1_RcEFVcR",
        "colab_type": "code",
        "colab": {
          "base_uri": "https://localhost:8080/",
          "height": 68
        },
        "outputId": "4b8ddd97-8b5d-4611-fe2f-2f8df3ce10f8"
      },
      "source": [
        "np.exp(array)"
      ],
      "execution_count": 54,
      "outputs": [
        {
          "output_type": "execute_result",
          "data": {
            "text/plain": [
              "array([1.00000000e+00, 2.71828183e+00, 7.38905610e+00, 2.00855369e+01,\n",
              "       5.45981500e+01, 1.48413159e+02, 4.03428793e+02, 1.09663316e+03,\n",
              "       2.98095799e+03, 8.10308393e+03])"
            ]
          },
          "metadata": {
            "tags": []
          },
          "execution_count": 54
        }
      ]
    },
    {
      "cell_type": "code",
      "metadata": {
        "id": "YRBB_132FY7K",
        "colab_type": "code",
        "colab": {
          "base_uri": "https://localhost:8080/",
          "height": 51
        },
        "outputId": "4b710801-6d32-4002-e489-f998c73624d5"
      },
      "source": [
        "x=np.random.rand(8)\n",
        "x"
      ],
      "execution_count": 55,
      "outputs": [
        {
          "output_type": "execute_result",
          "data": {
            "text/plain": [
              "array([0.81968777, 0.97877779, 0.85608024, 0.90522709, 0.28177847,\n",
              "       0.64547246, 0.5999469 , 0.98704533])"
            ]
          },
          "metadata": {
            "tags": []
          },
          "execution_count": 55
        }
      ]
    },
    {
      "cell_type": "code",
      "metadata": {
        "id": "FZxQOMoVFtkA",
        "colab_type": "code",
        "colab": {
          "base_uri": "https://localhost:8080/",
          "height": 51
        },
        "outputId": "af8ef7aa-985d-406f-9c50-05138e020265"
      },
      "source": [
        "y=np.random.rand(8)\n",
        "y"
      ],
      "execution_count": 56,
      "outputs": [
        {
          "output_type": "execute_result",
          "data": {
            "text/plain": [
              "array([0.65955965, 0.94450193, 0.58456784, 0.73941564, 0.7239658 ,\n",
              "       0.38983902, 0.9960449 , 0.1262344 ])"
            ]
          },
          "metadata": {
            "tags": []
          },
          "execution_count": 56
        }
      ]
    },
    {
      "cell_type": "code",
      "metadata": {
        "id": "zEKgvBxNFyoQ",
        "colab_type": "code",
        "colab": {
          "base_uri": "https://localhost:8080/",
          "height": 51
        },
        "outputId": "5c626230-e0ad-420a-d977-29e8836c1f9f"
      },
      "source": [
        "#Only generates the maximum value between x and y\n",
        "np.maximum(x,y)"
      ],
      "execution_count": 57,
      "outputs": [
        {
          "output_type": "execute_result",
          "data": {
            "text/plain": [
              "array([0.81968777, 0.97877779, 0.85608024, 0.90522709, 0.7239658 ,\n",
              "       0.64547246, 0.9960449 , 0.98704533])"
            ]
          },
          "metadata": {
            "tags": []
          },
          "execution_count": 57
        }
      ]
    },
    {
      "cell_type": "code",
      "metadata": {
        "id": "1zk_HdXdF3DA",
        "colab_type": "code",
        "colab": {
          "base_uri": "https://localhost:8080/",
          "height": 51
        },
        "outputId": "4a93799a-7751-4a47-9f95-3c924ef6c1ab"
      },
      "source": [
        "array1=np.random.rand(7)*3\n",
        "array1"
      ],
      "execution_count": 58,
      "outputs": [
        {
          "output_type": "execute_result",
          "data": {
            "text/plain": [
              "array([0.17948643, 1.06346722, 2.10258264, 2.98058775, 1.16298294,\n",
              "       1.87852506, 0.67433958])"
            ]
          },
          "metadata": {
            "tags": []
          },
          "execution_count": 58
        }
      ]
    },
    {
      "cell_type": "code",
      "metadata": {
        "id": "K36sJC9CGoBn",
        "colab_type": "code",
        "colab": {}
      },
      "source": [
        "#Inorder to generate the remainder and whole number of the array\n",
        "remainder,whole_no=np.modf(array1)"
      ],
      "execution_count": 59,
      "outputs": []
    },
    {
      "cell_type": "code",
      "metadata": {
        "id": "25qgUZW1HI2-",
        "colab_type": "code",
        "colab": {
          "base_uri": "https://localhost:8080/",
          "height": 51
        },
        "outputId": "b98d99eb-8622-4659-9e9f-76da666dc236"
      },
      "source": [
        "remainder"
      ],
      "execution_count": 60,
      "outputs": [
        {
          "output_type": "execute_result",
          "data": {
            "text/plain": [
              "array([0.17948643, 0.06346722, 0.10258264, 0.98058775, 0.16298294,\n",
              "       0.87852506, 0.67433958])"
            ]
          },
          "metadata": {
            "tags": []
          },
          "execution_count": 60
        }
      ]
    },
    {
      "cell_type": "code",
      "metadata": {
        "id": "nDuWkmPBHKC-",
        "colab_type": "code",
        "colab": {
          "base_uri": "https://localhost:8080/",
          "height": 34
        },
        "outputId": "7edaf4c0-4ab4-47ce-fe31-402c2255f886"
      },
      "source": [
        "whole_no"
      ],
      "execution_count": 61,
      "outputs": [
        {
          "output_type": "execute_result",
          "data": {
            "text/plain": [
              "array([0., 1., 2., 2., 1., 1., 0.])"
            ]
          },
          "metadata": {
            "tags": []
          },
          "execution_count": 61
        }
      ]
    },
    {
      "cell_type": "markdown",
      "metadata": {
        "id": "7egqolZZHxOS",
        "colab_type": "text"
      },
      "source": [
        "![image.png](data:image/png;base64,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)"
      ]
    },
    {
      "cell_type": "markdown",
      "metadata": {
        "id": "_ODqhio4HydG",
        "colab_type": "text"
      },
      "source": [
        ""
      ]
    }
  ]
}