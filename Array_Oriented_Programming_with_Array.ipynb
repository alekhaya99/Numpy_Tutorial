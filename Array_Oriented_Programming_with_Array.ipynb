{
  "nbformat": 4,
  "nbformat_minor": 0,
  "metadata": {
    "colab": {
      "name": "Array Oriented Programming with Array",
      "provenance": [],
      "collapsed_sections": [],
      "authorship_tag": "ABX9TyPykVHEbH8+J1SyVtfdsxZ9",
      "include_colab_link": true
    },
    "kernelspec": {
      "name": "python3",
      "display_name": "Python 3"
    }
  },
  "cells": [
    {
      "cell_type": "markdown",
      "metadata": {
        "id": "view-in-github",
        "colab_type": "text"
      },
      "source": [
        "<a href=\"https://colab.research.google.com/github/alekhaya99/Numpy_Tutorial/blob/master/Array_Oriented_Programming_with_Array.ipynb\" target=\"_parent\"><img src=\"https://colab.research.google.com/assets/colab-badge.svg\" alt=\"Open In Colab\"/></a>"
      ]
    },
    {
      "cell_type": "code",
      "metadata": {
        "id": "KyAiD2KljNQr",
        "colab_type": "code",
        "colab": {}
      },
      "source": [
        "import numpy as np"
      ],
      "execution_count": 1,
      "outputs": []
    },
    {
      "cell_type": "code",
      "metadata": {
        "id": "2TmMACtgHfSu",
        "colab_type": "code",
        "colab": {
          "base_uri": "https://localhost:8080/",
          "height": 1000
        },
        "outputId": "754a6e52-6e55-4575-cc94-4111c697be2e"
      },
      "source": [
        "#Creates an array consisting ogf 1000 equally spaced points\n",
        "points=np.arange(-5,5,0.01)\n",
        "points"
      ],
      "execution_count": 2,
      "outputs": [
        {
          "output_type": "execute_result",
          "data": {
            "text/plain": [
              "array([-5.0000000e+00, -4.9900000e+00, -4.9800000e+00, -4.9700000e+00,\n",
              "       -4.9600000e+00, -4.9500000e+00, -4.9400000e+00, -4.9300000e+00,\n",
              "       -4.9200000e+00, -4.9100000e+00, -4.9000000e+00, -4.8900000e+00,\n",
              "       -4.8800000e+00, -4.8700000e+00, -4.8600000e+00, -4.8500000e+00,\n",
              "       -4.8400000e+00, -4.8300000e+00, -4.8200000e+00, -4.8100000e+00,\n",
              "       -4.8000000e+00, -4.7900000e+00, -4.7800000e+00, -4.7700000e+00,\n",
              "       -4.7600000e+00, -4.7500000e+00, -4.7400000e+00, -4.7300000e+00,\n",
              "       -4.7200000e+00, -4.7100000e+00, -4.7000000e+00, -4.6900000e+00,\n",
              "       -4.6800000e+00, -4.6700000e+00, -4.6600000e+00, -4.6500000e+00,\n",
              "       -4.6400000e+00, -4.6300000e+00, -4.6200000e+00, -4.6100000e+00,\n",
              "       -4.6000000e+00, -4.5900000e+00, -4.5800000e+00, -4.5700000e+00,\n",
              "       -4.5600000e+00, -4.5500000e+00, -4.5400000e+00, -4.5300000e+00,\n",
              "       -4.5200000e+00, -4.5100000e+00, -4.5000000e+00, -4.4900000e+00,\n",
              "       -4.4800000e+00, -4.4700000e+00, -4.4600000e+00, -4.4500000e+00,\n",
              "       -4.4400000e+00, -4.4300000e+00, -4.4200000e+00, -4.4100000e+00,\n",
              "       -4.4000000e+00, -4.3900000e+00, -4.3800000e+00, -4.3700000e+00,\n",
              "       -4.3600000e+00, -4.3500000e+00, -4.3400000e+00, -4.3300000e+00,\n",
              "       -4.3200000e+00, -4.3100000e+00, -4.3000000e+00, -4.2900000e+00,\n",
              "       -4.2800000e+00, -4.2700000e+00, -4.2600000e+00, -4.2500000e+00,\n",
              "       -4.2400000e+00, -4.2300000e+00, -4.2200000e+00, -4.2100000e+00,\n",
              "       -4.2000000e+00, -4.1900000e+00, -4.1800000e+00, -4.1700000e+00,\n",
              "       -4.1600000e+00, -4.1500000e+00, -4.1400000e+00, -4.1300000e+00,\n",
              "       -4.1200000e+00, -4.1100000e+00, -4.1000000e+00, -4.0900000e+00,\n",
              "       -4.0800000e+00, -4.0700000e+00, -4.0600000e+00, -4.0500000e+00,\n",
              "       -4.0400000e+00, -4.0300000e+00, -4.0200000e+00, -4.0100000e+00,\n",
              "       -4.0000000e+00, -3.9900000e+00, -3.9800000e+00, -3.9700000e+00,\n",
              "       -3.9600000e+00, -3.9500000e+00, -3.9400000e+00, -3.9300000e+00,\n",
              "       -3.9200000e+00, -3.9100000e+00, -3.9000000e+00, -3.8900000e+00,\n",
              "       -3.8800000e+00, -3.8700000e+00, -3.8600000e+00, -3.8500000e+00,\n",
              "       -3.8400000e+00, -3.8300000e+00, -3.8200000e+00, -3.8100000e+00,\n",
              "       -3.8000000e+00, -3.7900000e+00, -3.7800000e+00, -3.7700000e+00,\n",
              "       -3.7600000e+00, -3.7500000e+00, -3.7400000e+00, -3.7300000e+00,\n",
              "       -3.7200000e+00, -3.7100000e+00, -3.7000000e+00, -3.6900000e+00,\n",
              "       -3.6800000e+00, -3.6700000e+00, -3.6600000e+00, -3.6500000e+00,\n",
              "       -3.6400000e+00, -3.6300000e+00, -3.6200000e+00, -3.6100000e+00,\n",
              "       -3.6000000e+00, -3.5900000e+00, -3.5800000e+00, -3.5700000e+00,\n",
              "       -3.5600000e+00, -3.5500000e+00, -3.5400000e+00, -3.5300000e+00,\n",
              "       -3.5200000e+00, -3.5100000e+00, -3.5000000e+00, -3.4900000e+00,\n",
              "       -3.4800000e+00, -3.4700000e+00, -3.4600000e+00, -3.4500000e+00,\n",
              "       -3.4400000e+00, -3.4300000e+00, -3.4200000e+00, -3.4100000e+00,\n",
              "       -3.4000000e+00, -3.3900000e+00, -3.3800000e+00, -3.3700000e+00,\n",
              "       -3.3600000e+00, -3.3500000e+00, -3.3400000e+00, -3.3300000e+00,\n",
              "       -3.3200000e+00, -3.3100000e+00, -3.3000000e+00, -3.2900000e+00,\n",
              "       -3.2800000e+00, -3.2700000e+00, -3.2600000e+00, -3.2500000e+00,\n",
              "       -3.2400000e+00, -3.2300000e+00, -3.2200000e+00, -3.2100000e+00,\n",
              "       -3.2000000e+00, -3.1900000e+00, -3.1800000e+00, -3.1700000e+00,\n",
              "       -3.1600000e+00, -3.1500000e+00, -3.1400000e+00, -3.1300000e+00,\n",
              "       -3.1200000e+00, -3.1100000e+00, -3.1000000e+00, -3.0900000e+00,\n",
              "       -3.0800000e+00, -3.0700000e+00, -3.0600000e+00, -3.0500000e+00,\n",
              "       -3.0400000e+00, -3.0300000e+00, -3.0200000e+00, -3.0100000e+00,\n",
              "       -3.0000000e+00, -2.9900000e+00, -2.9800000e+00, -2.9700000e+00,\n",
              "       -2.9600000e+00, -2.9500000e+00, -2.9400000e+00, -2.9300000e+00,\n",
              "       -2.9200000e+00, -2.9100000e+00, -2.9000000e+00, -2.8900000e+00,\n",
              "       -2.8800000e+00, -2.8700000e+00, -2.8600000e+00, -2.8500000e+00,\n",
              "       -2.8400000e+00, -2.8300000e+00, -2.8200000e+00, -2.8100000e+00,\n",
              "       -2.8000000e+00, -2.7900000e+00, -2.7800000e+00, -2.7700000e+00,\n",
              "       -2.7600000e+00, -2.7500000e+00, -2.7400000e+00, -2.7300000e+00,\n",
              "       -2.7200000e+00, -2.7100000e+00, -2.7000000e+00, -2.6900000e+00,\n",
              "       -2.6800000e+00, -2.6700000e+00, -2.6600000e+00, -2.6500000e+00,\n",
              "       -2.6400000e+00, -2.6300000e+00, -2.6200000e+00, -2.6100000e+00,\n",
              "       -2.6000000e+00, -2.5900000e+00, -2.5800000e+00, -2.5700000e+00,\n",
              "       -2.5600000e+00, -2.5500000e+00, -2.5400000e+00, -2.5300000e+00,\n",
              "       -2.5200000e+00, -2.5100000e+00, -2.5000000e+00, -2.4900000e+00,\n",
              "       -2.4800000e+00, -2.4700000e+00, -2.4600000e+00, -2.4500000e+00,\n",
              "       -2.4400000e+00, -2.4300000e+00, -2.4200000e+00, -2.4100000e+00,\n",
              "       -2.4000000e+00, -2.3900000e+00, -2.3800000e+00, -2.3700000e+00,\n",
              "       -2.3600000e+00, -2.3500000e+00, -2.3400000e+00, -2.3300000e+00,\n",
              "       -2.3200000e+00, -2.3100000e+00, -2.3000000e+00, -2.2900000e+00,\n",
              "       -2.2800000e+00, -2.2700000e+00, -2.2600000e+00, -2.2500000e+00,\n",
              "       -2.2400000e+00, -2.2300000e+00, -2.2200000e+00, -2.2100000e+00,\n",
              "       -2.2000000e+00, -2.1900000e+00, -2.1800000e+00, -2.1700000e+00,\n",
              "       -2.1600000e+00, -2.1500000e+00, -2.1400000e+00, -2.1300000e+00,\n",
              "       -2.1200000e+00, -2.1100000e+00, -2.1000000e+00, -2.0900000e+00,\n",
              "       -2.0800000e+00, -2.0700000e+00, -2.0600000e+00, -2.0500000e+00,\n",
              "       -2.0400000e+00, -2.0300000e+00, -2.0200000e+00, -2.0100000e+00,\n",
              "       -2.0000000e+00, -1.9900000e+00, -1.9800000e+00, -1.9700000e+00,\n",
              "       -1.9600000e+00, -1.9500000e+00, -1.9400000e+00, -1.9300000e+00,\n",
              "       -1.9200000e+00, -1.9100000e+00, -1.9000000e+00, -1.8900000e+00,\n",
              "       -1.8800000e+00, -1.8700000e+00, -1.8600000e+00, -1.8500000e+00,\n",
              "       -1.8400000e+00, -1.8300000e+00, -1.8200000e+00, -1.8100000e+00,\n",
              "       -1.8000000e+00, -1.7900000e+00, -1.7800000e+00, -1.7700000e+00,\n",
              "       -1.7600000e+00, -1.7500000e+00, -1.7400000e+00, -1.7300000e+00,\n",
              "       -1.7200000e+00, -1.7100000e+00, -1.7000000e+00, -1.6900000e+00,\n",
              "       -1.6800000e+00, -1.6700000e+00, -1.6600000e+00, -1.6500000e+00,\n",
              "       -1.6400000e+00, -1.6300000e+00, -1.6200000e+00, -1.6100000e+00,\n",
              "       -1.6000000e+00, -1.5900000e+00, -1.5800000e+00, -1.5700000e+00,\n",
              "       -1.5600000e+00, -1.5500000e+00, -1.5400000e+00, -1.5300000e+00,\n",
              "       -1.5200000e+00, -1.5100000e+00, -1.5000000e+00, -1.4900000e+00,\n",
              "       -1.4800000e+00, -1.4700000e+00, -1.4600000e+00, -1.4500000e+00,\n",
              "       -1.4400000e+00, -1.4300000e+00, -1.4200000e+00, -1.4100000e+00,\n",
              "       -1.4000000e+00, -1.3900000e+00, -1.3800000e+00, -1.3700000e+00,\n",
              "       -1.3600000e+00, -1.3500000e+00, -1.3400000e+00, -1.3300000e+00,\n",
              "       -1.3200000e+00, -1.3100000e+00, -1.3000000e+00, -1.2900000e+00,\n",
              "       -1.2800000e+00, -1.2700000e+00, -1.2600000e+00, -1.2500000e+00,\n",
              "       -1.2400000e+00, -1.2300000e+00, -1.2200000e+00, -1.2100000e+00,\n",
              "       -1.2000000e+00, -1.1900000e+00, -1.1800000e+00, -1.1700000e+00,\n",
              "       -1.1600000e+00, -1.1500000e+00, -1.1400000e+00, -1.1300000e+00,\n",
              "       -1.1200000e+00, -1.1100000e+00, -1.1000000e+00, -1.0900000e+00,\n",
              "       -1.0800000e+00, -1.0700000e+00, -1.0600000e+00, -1.0500000e+00,\n",
              "       -1.0400000e+00, -1.0300000e+00, -1.0200000e+00, -1.0100000e+00,\n",
              "       -1.0000000e+00, -9.9000000e-01, -9.8000000e-01, -9.7000000e-01,\n",
              "       -9.6000000e-01, -9.5000000e-01, -9.4000000e-01, -9.3000000e-01,\n",
              "       -9.2000000e-01, -9.1000000e-01, -9.0000000e-01, -8.9000000e-01,\n",
              "       -8.8000000e-01, -8.7000000e-01, -8.6000000e-01, -8.5000000e-01,\n",
              "       -8.4000000e-01, -8.3000000e-01, -8.2000000e-01, -8.1000000e-01,\n",
              "       -8.0000000e-01, -7.9000000e-01, -7.8000000e-01, -7.7000000e-01,\n",
              "       -7.6000000e-01, -7.5000000e-01, -7.4000000e-01, -7.3000000e-01,\n",
              "       -7.2000000e-01, -7.1000000e-01, -7.0000000e-01, -6.9000000e-01,\n",
              "       -6.8000000e-01, -6.7000000e-01, -6.6000000e-01, -6.5000000e-01,\n",
              "       -6.4000000e-01, -6.3000000e-01, -6.2000000e-01, -6.1000000e-01,\n",
              "       -6.0000000e-01, -5.9000000e-01, -5.8000000e-01, -5.7000000e-01,\n",
              "       -5.6000000e-01, -5.5000000e-01, -5.4000000e-01, -5.3000000e-01,\n",
              "       -5.2000000e-01, -5.1000000e-01, -5.0000000e-01, -4.9000000e-01,\n",
              "       -4.8000000e-01, -4.7000000e-01, -4.6000000e-01, -4.5000000e-01,\n",
              "       -4.4000000e-01, -4.3000000e-01, -4.2000000e-01, -4.1000000e-01,\n",
              "       -4.0000000e-01, -3.9000000e-01, -3.8000000e-01, -3.7000000e-01,\n",
              "       -3.6000000e-01, -3.5000000e-01, -3.4000000e-01, -3.3000000e-01,\n",
              "       -3.2000000e-01, -3.1000000e-01, -3.0000000e-01, -2.9000000e-01,\n",
              "       -2.8000000e-01, -2.7000000e-01, -2.6000000e-01, -2.5000000e-01,\n",
              "       -2.4000000e-01, -2.3000000e-01, -2.2000000e-01, -2.1000000e-01,\n",
              "       -2.0000000e-01, -1.9000000e-01, -1.8000000e-01, -1.7000000e-01,\n",
              "       -1.6000000e-01, -1.5000000e-01, -1.4000000e-01, -1.3000000e-01,\n",
              "       -1.2000000e-01, -1.1000000e-01, -1.0000000e-01, -9.0000000e-02,\n",
              "       -8.0000000e-02, -7.0000000e-02, -6.0000000e-02, -5.0000000e-02,\n",
              "       -4.0000000e-02, -3.0000000e-02, -2.0000000e-02, -1.0000000e-02,\n",
              "       -1.0658141e-13,  1.0000000e-02,  2.0000000e-02,  3.0000000e-02,\n",
              "        4.0000000e-02,  5.0000000e-02,  6.0000000e-02,  7.0000000e-02,\n",
              "        8.0000000e-02,  9.0000000e-02,  1.0000000e-01,  1.1000000e-01,\n",
              "        1.2000000e-01,  1.3000000e-01,  1.4000000e-01,  1.5000000e-01,\n",
              "        1.6000000e-01,  1.7000000e-01,  1.8000000e-01,  1.9000000e-01,\n",
              "        2.0000000e-01,  2.1000000e-01,  2.2000000e-01,  2.3000000e-01,\n",
              "        2.4000000e-01,  2.5000000e-01,  2.6000000e-01,  2.7000000e-01,\n",
              "        2.8000000e-01,  2.9000000e-01,  3.0000000e-01,  3.1000000e-01,\n",
              "        3.2000000e-01,  3.3000000e-01,  3.4000000e-01,  3.5000000e-01,\n",
              "        3.6000000e-01,  3.7000000e-01,  3.8000000e-01,  3.9000000e-01,\n",
              "        4.0000000e-01,  4.1000000e-01,  4.2000000e-01,  4.3000000e-01,\n",
              "        4.4000000e-01,  4.5000000e-01,  4.6000000e-01,  4.7000000e-01,\n",
              "        4.8000000e-01,  4.9000000e-01,  5.0000000e-01,  5.1000000e-01,\n",
              "        5.2000000e-01,  5.3000000e-01,  5.4000000e-01,  5.5000000e-01,\n",
              "        5.6000000e-01,  5.7000000e-01,  5.8000000e-01,  5.9000000e-01,\n",
              "        6.0000000e-01,  6.1000000e-01,  6.2000000e-01,  6.3000000e-01,\n",
              "        6.4000000e-01,  6.5000000e-01,  6.6000000e-01,  6.7000000e-01,\n",
              "        6.8000000e-01,  6.9000000e-01,  7.0000000e-01,  7.1000000e-01,\n",
              "        7.2000000e-01,  7.3000000e-01,  7.4000000e-01,  7.5000000e-01,\n",
              "        7.6000000e-01,  7.7000000e-01,  7.8000000e-01,  7.9000000e-01,\n",
              "        8.0000000e-01,  8.1000000e-01,  8.2000000e-01,  8.3000000e-01,\n",
              "        8.4000000e-01,  8.5000000e-01,  8.6000000e-01,  8.7000000e-01,\n",
              "        8.8000000e-01,  8.9000000e-01,  9.0000000e-01,  9.1000000e-01,\n",
              "        9.2000000e-01,  9.3000000e-01,  9.4000000e-01,  9.5000000e-01,\n",
              "        9.6000000e-01,  9.7000000e-01,  9.8000000e-01,  9.9000000e-01,\n",
              "        1.0000000e+00,  1.0100000e+00,  1.0200000e+00,  1.0300000e+00,\n",
              "        1.0400000e+00,  1.0500000e+00,  1.0600000e+00,  1.0700000e+00,\n",
              "        1.0800000e+00,  1.0900000e+00,  1.1000000e+00,  1.1100000e+00,\n",
              "        1.1200000e+00,  1.1300000e+00,  1.1400000e+00,  1.1500000e+00,\n",
              "        1.1600000e+00,  1.1700000e+00,  1.1800000e+00,  1.1900000e+00,\n",
              "        1.2000000e+00,  1.2100000e+00,  1.2200000e+00,  1.2300000e+00,\n",
              "        1.2400000e+00,  1.2500000e+00,  1.2600000e+00,  1.2700000e+00,\n",
              "        1.2800000e+00,  1.2900000e+00,  1.3000000e+00,  1.3100000e+00,\n",
              "        1.3200000e+00,  1.3300000e+00,  1.3400000e+00,  1.3500000e+00,\n",
              "        1.3600000e+00,  1.3700000e+00,  1.3800000e+00,  1.3900000e+00,\n",
              "        1.4000000e+00,  1.4100000e+00,  1.4200000e+00,  1.4300000e+00,\n",
              "        1.4400000e+00,  1.4500000e+00,  1.4600000e+00,  1.4700000e+00,\n",
              "        1.4800000e+00,  1.4900000e+00,  1.5000000e+00,  1.5100000e+00,\n",
              "        1.5200000e+00,  1.5300000e+00,  1.5400000e+00,  1.5500000e+00,\n",
              "        1.5600000e+00,  1.5700000e+00,  1.5800000e+00,  1.5900000e+00,\n",
              "        1.6000000e+00,  1.6100000e+00,  1.6200000e+00,  1.6300000e+00,\n",
              "        1.6400000e+00,  1.6500000e+00,  1.6600000e+00,  1.6700000e+00,\n",
              "        1.6800000e+00,  1.6900000e+00,  1.7000000e+00,  1.7100000e+00,\n",
              "        1.7200000e+00,  1.7300000e+00,  1.7400000e+00,  1.7500000e+00,\n",
              "        1.7600000e+00,  1.7700000e+00,  1.7800000e+00,  1.7900000e+00,\n",
              "        1.8000000e+00,  1.8100000e+00,  1.8200000e+00,  1.8300000e+00,\n",
              "        1.8400000e+00,  1.8500000e+00,  1.8600000e+00,  1.8700000e+00,\n",
              "        1.8800000e+00,  1.8900000e+00,  1.9000000e+00,  1.9100000e+00,\n",
              "        1.9200000e+00,  1.9300000e+00,  1.9400000e+00,  1.9500000e+00,\n",
              "        1.9600000e+00,  1.9700000e+00,  1.9800000e+00,  1.9900000e+00,\n",
              "        2.0000000e+00,  2.0100000e+00,  2.0200000e+00,  2.0300000e+00,\n",
              "        2.0400000e+00,  2.0500000e+00,  2.0600000e+00,  2.0700000e+00,\n",
              "        2.0800000e+00,  2.0900000e+00,  2.1000000e+00,  2.1100000e+00,\n",
              "        2.1200000e+00,  2.1300000e+00,  2.1400000e+00,  2.1500000e+00,\n",
              "        2.1600000e+00,  2.1700000e+00,  2.1800000e+00,  2.1900000e+00,\n",
              "        2.2000000e+00,  2.2100000e+00,  2.2200000e+00,  2.2300000e+00,\n",
              "        2.2400000e+00,  2.2500000e+00,  2.2600000e+00,  2.2700000e+00,\n",
              "        2.2800000e+00,  2.2900000e+00,  2.3000000e+00,  2.3100000e+00,\n",
              "        2.3200000e+00,  2.3300000e+00,  2.3400000e+00,  2.3500000e+00,\n",
              "        2.3600000e+00,  2.3700000e+00,  2.3800000e+00,  2.3900000e+00,\n",
              "        2.4000000e+00,  2.4100000e+00,  2.4200000e+00,  2.4300000e+00,\n",
              "        2.4400000e+00,  2.4500000e+00,  2.4600000e+00,  2.4700000e+00,\n",
              "        2.4800000e+00,  2.4900000e+00,  2.5000000e+00,  2.5100000e+00,\n",
              "        2.5200000e+00,  2.5300000e+00,  2.5400000e+00,  2.5500000e+00,\n",
              "        2.5600000e+00,  2.5700000e+00,  2.5800000e+00,  2.5900000e+00,\n",
              "        2.6000000e+00,  2.6100000e+00,  2.6200000e+00,  2.6300000e+00,\n",
              "        2.6400000e+00,  2.6500000e+00,  2.6600000e+00,  2.6700000e+00,\n",
              "        2.6800000e+00,  2.6900000e+00,  2.7000000e+00,  2.7100000e+00,\n",
              "        2.7200000e+00,  2.7300000e+00,  2.7400000e+00,  2.7500000e+00,\n",
              "        2.7600000e+00,  2.7700000e+00,  2.7800000e+00,  2.7900000e+00,\n",
              "        2.8000000e+00,  2.8100000e+00,  2.8200000e+00,  2.8300000e+00,\n",
              "        2.8400000e+00,  2.8500000e+00,  2.8600000e+00,  2.8700000e+00,\n",
              "        2.8800000e+00,  2.8900000e+00,  2.9000000e+00,  2.9100000e+00,\n",
              "        2.9200000e+00,  2.9300000e+00,  2.9400000e+00,  2.9500000e+00,\n",
              "        2.9600000e+00,  2.9700000e+00,  2.9800000e+00,  2.9900000e+00,\n",
              "        3.0000000e+00,  3.0100000e+00,  3.0200000e+00,  3.0300000e+00,\n",
              "        3.0400000e+00,  3.0500000e+00,  3.0600000e+00,  3.0700000e+00,\n",
              "        3.0800000e+00,  3.0900000e+00,  3.1000000e+00,  3.1100000e+00,\n",
              "        3.1200000e+00,  3.1300000e+00,  3.1400000e+00,  3.1500000e+00,\n",
              "        3.1600000e+00,  3.1700000e+00,  3.1800000e+00,  3.1900000e+00,\n",
              "        3.2000000e+00,  3.2100000e+00,  3.2200000e+00,  3.2300000e+00,\n",
              "        3.2400000e+00,  3.2500000e+00,  3.2600000e+00,  3.2700000e+00,\n",
              "        3.2800000e+00,  3.2900000e+00,  3.3000000e+00,  3.3100000e+00,\n",
              "        3.3200000e+00,  3.3300000e+00,  3.3400000e+00,  3.3500000e+00,\n",
              "        3.3600000e+00,  3.3700000e+00,  3.3800000e+00,  3.3900000e+00,\n",
              "        3.4000000e+00,  3.4100000e+00,  3.4200000e+00,  3.4300000e+00,\n",
              "        3.4400000e+00,  3.4500000e+00,  3.4600000e+00,  3.4700000e+00,\n",
              "        3.4800000e+00,  3.4900000e+00,  3.5000000e+00,  3.5100000e+00,\n",
              "        3.5200000e+00,  3.5300000e+00,  3.5400000e+00,  3.5500000e+00,\n",
              "        3.5600000e+00,  3.5700000e+00,  3.5800000e+00,  3.5900000e+00,\n",
              "        3.6000000e+00,  3.6100000e+00,  3.6200000e+00,  3.6300000e+00,\n",
              "        3.6400000e+00,  3.6500000e+00,  3.6600000e+00,  3.6700000e+00,\n",
              "        3.6800000e+00,  3.6900000e+00,  3.7000000e+00,  3.7100000e+00,\n",
              "        3.7200000e+00,  3.7300000e+00,  3.7400000e+00,  3.7500000e+00,\n",
              "        3.7600000e+00,  3.7700000e+00,  3.7800000e+00,  3.7900000e+00,\n",
              "        3.8000000e+00,  3.8100000e+00,  3.8200000e+00,  3.8300000e+00,\n",
              "        3.8400000e+00,  3.8500000e+00,  3.8600000e+00,  3.8700000e+00,\n",
              "        3.8800000e+00,  3.8900000e+00,  3.9000000e+00,  3.9100000e+00,\n",
              "        3.9200000e+00,  3.9300000e+00,  3.9400000e+00,  3.9500000e+00,\n",
              "        3.9600000e+00,  3.9700000e+00,  3.9800000e+00,  3.9900000e+00,\n",
              "        4.0000000e+00,  4.0100000e+00,  4.0200000e+00,  4.0300000e+00,\n",
              "        4.0400000e+00,  4.0500000e+00,  4.0600000e+00,  4.0700000e+00,\n",
              "        4.0800000e+00,  4.0900000e+00,  4.1000000e+00,  4.1100000e+00,\n",
              "        4.1200000e+00,  4.1300000e+00,  4.1400000e+00,  4.1500000e+00,\n",
              "        4.1600000e+00,  4.1700000e+00,  4.1800000e+00,  4.1900000e+00,\n",
              "        4.2000000e+00,  4.2100000e+00,  4.2200000e+00,  4.2300000e+00,\n",
              "        4.2400000e+00,  4.2500000e+00,  4.2600000e+00,  4.2700000e+00,\n",
              "        4.2800000e+00,  4.2900000e+00,  4.3000000e+00,  4.3100000e+00,\n",
              "        4.3200000e+00,  4.3300000e+00,  4.3400000e+00,  4.3500000e+00,\n",
              "        4.3600000e+00,  4.3700000e+00,  4.3800000e+00,  4.3900000e+00,\n",
              "        4.4000000e+00,  4.4100000e+00,  4.4200000e+00,  4.4300000e+00,\n",
              "        4.4400000e+00,  4.4500000e+00,  4.4600000e+00,  4.4700000e+00,\n",
              "        4.4800000e+00,  4.4900000e+00,  4.5000000e+00,  4.5100000e+00,\n",
              "        4.5200000e+00,  4.5300000e+00,  4.5400000e+00,  4.5500000e+00,\n",
              "        4.5600000e+00,  4.5700000e+00,  4.5800000e+00,  4.5900000e+00,\n",
              "        4.6000000e+00,  4.6100000e+00,  4.6200000e+00,  4.6300000e+00,\n",
              "        4.6400000e+00,  4.6500000e+00,  4.6600000e+00,  4.6700000e+00,\n",
              "        4.6800000e+00,  4.6900000e+00,  4.7000000e+00,  4.7100000e+00,\n",
              "        4.7200000e+00,  4.7300000e+00,  4.7400000e+00,  4.7500000e+00,\n",
              "        4.7600000e+00,  4.7700000e+00,  4.7800000e+00,  4.7900000e+00,\n",
              "        4.8000000e+00,  4.8100000e+00,  4.8200000e+00,  4.8300000e+00,\n",
              "        4.8400000e+00,  4.8500000e+00,  4.8600000e+00,  4.8700000e+00,\n",
              "        4.8800000e+00,  4.8900000e+00,  4.9000000e+00,  4.9100000e+00,\n",
              "        4.9200000e+00,  4.9300000e+00,  4.9400000e+00,  4.9500000e+00,\n",
              "        4.9600000e+00,  4.9700000e+00,  4.9800000e+00,  4.9900000e+00])"
            ]
          },
          "metadata": {
            "tags": []
          },
          "execution_count": 2
        }
      ]
    },
    {
      "cell_type": "code",
      "metadata": {
        "id": "hGPO_3UQJasK",
        "colab_type": "code",
        "colab": {}
      },
      "source": [
        "#The np.meshgrid function takes two 1D array and produces two 2-D matricies corresponding to all pairs of (x,y) in two arrays\n",
        "xs,ys=np.meshgrid(points,points)"
      ],
      "execution_count": 3,
      "outputs": []
    },
    {
      "cell_type": "code",
      "metadata": {
        "id": "64xTd30rL4cO",
        "colab_type": "code",
        "colab": {
          "base_uri": "https://localhost:8080/",
          "height": 136
        },
        "outputId": "9c4a2010-5453-4b51-9148-c3ada85e74c5"
      },
      "source": [
        "ys"
      ],
      "execution_count": 4,
      "outputs": [
        {
          "output_type": "execute_result",
          "data": {
            "text/plain": [
              "array([[-5.  , -5.  , -5.  , ..., -5.  , -5.  , -5.  ],\n",
              "       [-4.99, -4.99, -4.99, ..., -4.99, -4.99, -4.99],\n",
              "       [-4.98, -4.98, -4.98, ..., -4.98, -4.98, -4.98],\n",
              "       ...,\n",
              "       [ 4.97,  4.97,  4.97, ...,  4.97,  4.97,  4.97],\n",
              "       [ 4.98,  4.98,  4.98, ...,  4.98,  4.98,  4.98],\n",
              "       [ 4.99,  4.99,  4.99, ...,  4.99,  4.99,  4.99]])"
            ]
          },
          "metadata": {
            "tags": []
          },
          "execution_count": 4
        }
      ]
    },
    {
      "cell_type": "code",
      "metadata": {
        "id": "oLXqs6FhL54l",
        "colab_type": "code",
        "colab": {
          "base_uri": "https://localhost:8080/",
          "height": 136
        },
        "outputId": "bb6292f5-301c-4898-8929-6585e2c1b675"
      },
      "source": [
        "xs"
      ],
      "execution_count": 5,
      "outputs": [
        {
          "output_type": "execute_result",
          "data": {
            "text/plain": [
              "array([[-5.  , -4.99, -4.98, ...,  4.97,  4.98,  4.99],\n",
              "       [-5.  , -4.99, -4.98, ...,  4.97,  4.98,  4.99],\n",
              "       [-5.  , -4.99, -4.98, ...,  4.97,  4.98,  4.99],\n",
              "       ...,\n",
              "       [-5.  , -4.99, -4.98, ...,  4.97,  4.98,  4.99],\n",
              "       [-5.  , -4.99, -4.98, ...,  4.97,  4.98,  4.99],\n",
              "       [-5.  , -4.99, -4.98, ...,  4.97,  4.98,  4.99]])"
            ]
          },
          "metadata": {
            "tags": []
          },
          "execution_count": 5
        }
      ]
    },
    {
      "cell_type": "code",
      "metadata": {
        "id": "7ym2myiHL-yt",
        "colab_type": "code",
        "colab": {}
      },
      "source": [
        "z=np.sqrt(xs**2+ys**2)"
      ],
      "execution_count": 6,
      "outputs": []
    },
    {
      "cell_type": "code",
      "metadata": {
        "id": "Bc_5pzADMSos",
        "colab_type": "code",
        "colab": {
          "base_uri": "https://localhost:8080/",
          "height": 238
        },
        "outputId": "e92142cf-788a-4ebf-a175-94ca478a4748"
      },
      "source": [
        "z"
      ],
      "execution_count": 7,
      "outputs": [
        {
          "output_type": "execute_result",
          "data": {
            "text/plain": [
              "array([[7.07106781, 7.06400028, 7.05693985, ..., 7.04988652, 7.05693985,\n",
              "        7.06400028],\n",
              "       [7.06400028, 7.05692568, 7.04985815, ..., 7.04279774, 7.04985815,\n",
              "        7.05692568],\n",
              "       [7.05693985, 7.04985815, 7.04278354, ..., 7.03571603, 7.04278354,\n",
              "        7.04985815],\n",
              "       ...,\n",
              "       [7.04988652, 7.04279774, 7.03571603, ..., 7.0286414 , 7.03571603,\n",
              "        7.04279774],\n",
              "       [7.05693985, 7.04985815, 7.04278354, ..., 7.03571603, 7.04278354,\n",
              "        7.04985815],\n",
              "       [7.06400028, 7.05692568, 7.04985815, ..., 7.04279774, 7.04985815,\n",
              "        7.05692568]])"
            ]
          },
          "metadata": {
            "tags": []
          },
          "execution_count": 7
        }
      ]
    },
    {
      "cell_type": "code",
      "metadata": {
        "id": "jHAwzR4dMTok",
        "colab_type": "code",
        "colab": {}
      },
      "source": [
        "import matplotlib.pyplot as plt"
      ],
      "execution_count": 8,
      "outputs": []
    },
    {
      "cell_type": "code",
      "metadata": {
        "id": "kbXMFVnZMd58",
        "colab_type": "code",
        "colab": {
          "base_uri": "https://localhost:8080/",
          "height": 286
        },
        "outputId": "efca6854-fcf1-4350-ab90-290282128c88"
      },
      "source": [
        "plt.imshow(z,cmap=plt.cm.gray)\n",
        "plt.colorbar()"
      ],
      "execution_count": 9,
      "outputs": [
        {
          "output_type": "execute_result",
          "data": {
            "text/plain": [
              "<matplotlib.colorbar.Colorbar at 0x7f4465521a90>"
            ]
          },
          "metadata": {
            "tags": []
          },
          "execution_count": 9
        },
        {
          "output_type": "display_data",
          "data": {
            "image/png": "[encoded data removed]",
            "text/plain": [
              "<Figure size 432x288 with 2 Axes>"
            ]
          },
          "metadata": {
            "tags": [],
            "needs_background": "light"
          }
        }
      ]
    },
    {
      "cell_type": "code",
      "metadata": {
        "id": "t0YRXqzyN3mk",
        "colab_type": "code",
        "colab": {
          "base_uri": "https://localhost:8080/",
          "height": 305
        },
        "outputId": "c6a20a35-0971-4004-e057-c95d836e0130"
      },
      "source": [
        "plt.title(\"Image plot of $\\sqrt{x^2+y^2}$ for a grid of values\")"
      ],
      "execution_count": 10,
      "outputs": [
        {
          "output_type": "execute_result",
          "data": {
            "text/plain": [
              "Text(0.5, 1.0, 'Image plot of $\\\\sqrt{x^2+y^2}$ for a grid of values')"
            ]
          },
          "metadata": {
            "tags": []
          },
          "execution_count": 10
        },
        {
          "output_type": "display_data",
          "data": {
            "image/png": "[encoded data removed]",
            "text/plain": [
              "<Figure size 432x288 with 1 Axes>"
            ]
          },
          "metadata": {
            "tags": [],
            "needs_background": "light"
          }
        }
      ]
    },
    {
      "cell_type": "markdown",
      "metadata": {
        "id": "ldf4MwRHO_SC",
        "colab_type": "text"
      },
      "source": [
        "# Expressing Conditional Logic as Array Operations"
      ]
    },
    {
      "cell_type": "code",
      "metadata": {
        "id": "2JPIoNAtO-hh",
        "colab_type": "code",
        "colab": {}
      },
      "source": [
        "# \".where\" function in Numpy which is a vectorized form of the ternary expression x if condition else y\n",
        "x_array=np.array([1.1,1.2,1.3,1.4,1.5])\n",
        "y_array=np.array([2.1,2.2,2.3,2.4,2.5])\n",
        "cond=np.array([True,False,True,True,False])"
      ],
      "execution_count": 11,
      "outputs": []
    },
    {
      "cell_type": "code",
      "metadata": {
        "id": "Wam7IRp_OoFo",
        "colab_type": "code",
        "colab": {
          "base_uri": "https://localhost:8080/",
          "height": 34
        },
        "outputId": "ee7a0322-a8d3-488a-fb1d-ed9dcdef36d2"
      },
      "source": [
        "result=[(x if c else y) for x,y,c in zip(x_array,y_array,cond)]\n",
        "result"
      ],
      "execution_count": 12,
      "outputs": [
        {
          "output_type": "execute_result",
          "data": {
            "text/plain": [
              "[1.1, 2.2, 1.3, 1.4, 2.5]"
            ]
          },
          "metadata": {
            "tags": []
          },
          "execution_count": 12
        }
      ]
    },
    {
      "cell_type": "code",
      "metadata": {
        "id": "zI3dIZbzgkbo",
        "colab_type": "code",
        "colab": {
          "base_uri": "https://localhost:8080/",
          "height": 34
        },
        "outputId": "6bd567c8-288d-43dd-d2d9-b62778bd4d8e"
      },
      "source": [
        "result=np.where(cond,x_array,y_array)\n",
        "result"
      ],
      "execution_count": 13,
      "outputs": [
        {
          "output_type": "execute_result",
          "data": {
            "text/plain": [
              "array([1.1, 2.2, 1.3, 1.4, 2.5])"
            ]
          },
          "metadata": {
            "tags": []
          },
          "execution_count": 13
        }
      ]
    },
    {
      "cell_type": "code",
      "metadata": {
        "id": "yUFxaGW3hTiE",
        "colab_type": "code",
        "colab": {
          "base_uri": "https://localhost:8080/",
          "height": 85
        },
        "outputId": "590ca6ea-0470-4e5e-b351-674981158d7e"
      },
      "source": [
        "arr=np.random.rand(4,4)\n",
        "arr"
      ],
      "execution_count": 14,
      "outputs": [
        {
          "output_type": "execute_result",
          "data": {
            "text/plain": [
              "array([[0.85879258, 0.88433663, 0.47967564, 0.17984096],\n",
              "       [0.40183208, 0.28438364, 0.80603614, 0.99026842],\n",
              "       [0.55123127, 0.81894556, 0.10574636, 0.61090303],\n",
              "       [0.62492527, 0.56140826, 0.2415612 , 0.58817075]])"
            ]
          },
          "metadata": {
            "tags": []
          },
          "execution_count": 14
        }
      ]
    },
    {
      "cell_type": "code",
      "metadata": {
        "id": "qkVkAr15hsPk",
        "colab_type": "code",
        "colab": {
          "base_uri": "https://localhost:8080/",
          "height": 153
        },
        "outputId": "ab942998-3063-4da5-f718-e7198d52f989"
      },
      "source": [
        "np.where(arr>0.5,arr,'This is less than 0.5')"
      ],
      "execution_count": 15,
      "outputs": [
        {
          "output_type": "execute_result",
          "data": {
            "text/plain": [
              "array([['0.8587925846010714', '0.8843366309743063',\n",
              "        'This is less than 0.5', 'This is less than 0.5'],\n",
              "       ['This is less than 0.5', 'This is less than 0.5',\n",
              "        '0.806036136809789', '0.9902684211649594'],\n",
              "       ['0.5512312660784496', '0.818945562802077',\n",
              "        'This is less than 0.5', '0.6109030290407795'],\n",
              "       ['0.6249252738374474', '0.5614082646524146',\n",
              "        'This is less than 0.5', '0.5881707518876202']], dtype='<U32')"
            ]
          },
          "metadata": {
            "tags": []
          },
          "execution_count": 15
        }
      ]
    },
    {
      "cell_type": "markdown",
      "metadata": {
        "id": "Dj7o3wIIjJ92",
        "colab_type": "text"
      },
      "source": [
        "# Mathemetical and Statistical Modelling"
      ]
    },
    {
      "cell_type": "markdown",
      "metadata": {
        "id": "Fo4EjAJ5s3T8",
        "colab_type": "text"
      },
      "source": [
        "![image.png](data:image/png;base64,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)"
      ]
    },
    {
      "cell_type": "code",
      "metadata": {
        "id": "dpIMCq6FiKpr",
        "colab_type": "code",
        "colab": {
          "base_uri": "https://localhost:8080/",
          "height": 68
        },
        "outputId": "5dc34f7c-8060-4bdf-d23f-a28473bc4b86"
      },
      "source": [
        "array=np.random.rand(3,3)\n",
        "array"
      ],
      "execution_count": 16,
      "outputs": [
        {
          "output_type": "execute_result",
          "data": {
            "text/plain": [
              "array([[0.62805229, 0.26275832, 0.34985207],\n",
              "       [0.09001688, 0.91901015, 0.73433047],\n",
              "       [0.9588905 , 0.03650217, 0.72226353]])"
            ]
          },
          "metadata": {
            "tags": []
          },
          "execution_count": 16
        }
      ]
    },
    {
      "cell_type": "code",
      "metadata": {
        "id": "oO3tXzEZjkWB",
        "colab_type": "code",
        "colab": {
          "base_uri": "https://localhost:8080/",
          "height": 34
        },
        "outputId": "6e6ff96d-c2e8-4901-9756-1fd64e7f6411"
      },
      "source": [
        "\n",
        "array.mean()"
      ],
      "execution_count": 17,
      "outputs": [
        {
          "output_type": "execute_result",
          "data": {
            "text/plain": [
              "0.5224084855926233"
            ]
          },
          "metadata": {
            "tags": []
          },
          "execution_count": 17
        }
      ]
    },
    {
      "cell_type": "code",
      "metadata": {
        "id": "gNytHhXSkZTO",
        "colab_type": "code",
        "colab": {
          "base_uri": "https://localhost:8080/",
          "height": 34
        },
        "outputId": "b836e993-a292-46b3-c3b6-6e746a3c8eda"
      },
      "source": [
        "#To generate the mean of the array in the numpy way\n",
        "np.mean(arr)"
      ],
      "execution_count": 18,
      "outputs": [
        {
          "output_type": "execute_result",
          "data": {
            "text/plain": [
              "0.5617536123456202"
            ]
          },
          "metadata": {
            "tags": []
          },
          "execution_count": 18
        }
      ]
    },
    {
      "cell_type": "code",
      "metadata": {
        "id": "9VCNz1qWlIXu",
        "colab_type": "code",
        "colab": {
          "base_uri": "https://localhost:8080/",
          "height": 34
        },
        "outputId": "717020e2-27b4-4e0b-b168-45680139f165"
      },
      "source": [
        "#To take the mean of each row\n",
        "array.mean(axis=1)"
      ],
      "execution_count": 19,
      "outputs": [
        {
          "output_type": "execute_result",
          "data": {
            "text/plain": [
              "array([0.41355423, 0.58111916, 0.57255206])"
            ]
          },
          "metadata": {
            "tags": []
          },
          "execution_count": 19
        }
      ]
    },
    {
      "cell_type": "code",
      "metadata": {
        "id": "2vNJNthgltz1",
        "colab_type": "code",
        "colab": {
          "base_uri": "https://localhost:8080/",
          "height": 34
        },
        "outputId": "ef92a033-6d1f-4888-cd7a-c1c3e57bcb21"
      },
      "source": [
        "#To take the mean across each column\n",
        "array.mean(axis=0)"
      ],
      "execution_count": 20,
      "outputs": [
        {
          "output_type": "execute_result",
          "data": {
            "text/plain": [
              "array([0.55898655, 0.40609021, 0.60214869])"
            ]
          },
          "metadata": {
            "tags": []
          },
          "execution_count": 20
        }
      ]
    },
    {
      "cell_type": "markdown",
      "metadata": {
        "id": "6CmbLdgGuf1W",
        "colab_type": "text"
      },
      "source": [
        "# Methods for Boolean Array"
      ]
    },
    {
      "cell_type": "code",
      "metadata": {
        "id": "PlPsb0kFQ1La",
        "colab_type": "code",
        "colab": {
          "base_uri": "https://localhost:8080/",
          "height": 357
        },
        "outputId": "9f9da31e-d2f7-4b55-b2ec-7a4d789a81f5"
      },
      "source": [
        "array=np.random.rand(100)\n",
        "array"
      ],
      "execution_count": 21,
      "outputs": [
        {
          "output_type": "execute_result",
          "data": {
            "text/plain": [
              "array([0.44484249, 0.08636237, 0.98781491, 0.78232924, 0.52185969,\n",
              "       0.4119489 , 0.18788474, 0.36908047, 0.32543958, 0.7750685 ,\n",
              "       0.68761754, 0.38101759, 0.36548303, 0.95189491, 0.60656938,\n",
              "       0.8988872 , 0.66846923, 0.63057098, 0.85863011, 0.85788696,\n",
              "       0.11765328, 0.72341719, 0.97124909, 0.36027602, 0.16392906,\n",
              "       0.97802969, 0.81091844, 0.58130793, 0.78940512, 0.72439788,\n",
              "       0.00336298, 0.24140385, 0.18132525, 0.84897325, 0.58193656,\n",
              "       0.88191687, 0.39200295, 0.09775774, 0.85875372, 0.75736455,\n",
              "       0.0301192 , 0.30474888, 0.43526326, 0.77875882, 0.81189617,\n",
              "       0.91318981, 0.06316685, 0.31931903, 0.93674974, 0.34257579,\n",
              "       0.38911064, 0.6686144 , 0.829548  , 0.11438049, 0.55929236,\n",
              "       0.07174279, 0.8162599 , 0.63914013, 0.55363619, 0.52925003,\n",
              "       0.91013495, 0.996982  , 0.50226633, 0.13169388, 0.54779156,\n",
              "       0.05239019, 0.82737111, 0.46110801, 0.85206724, 0.44986501,\n",
              "       0.70817801, 0.8607445 , 0.88255913, 0.394456  , 0.8103325 ,\n",
              "       0.84623279, 0.99676363, 0.26059592, 0.93902536, 0.30811002,\n",
              "       0.30477855, 0.67729451, 0.67850601, 0.09836521, 0.54909014,\n",
              "       0.74004131, 0.64074038, 0.30044851, 0.86549439, 0.70061562,\n",
              "       0.69480864, 0.48422811, 0.04747719, 0.29073238, 0.80268263,\n",
              "       0.13084697, 0.00477566, 0.34820419, 0.74423617, 0.2230865 ])"
            ]
          },
          "metadata": {
            "tags": []
          },
          "execution_count": 21
        }
      ]
    },
    {
      "cell_type": "code",
      "metadata": {
        "id": "VZx8yaypQ-Lp",
        "colab_type": "code",
        "colab": {
          "base_uri": "https://localhost:8080/",
          "height": 34
        },
        "outputId": "ce417218-2132-4be7-c037-336565cde36c"
      },
      "source": [
        "(arr>0).sum()"
      ],
      "execution_count": 22,
      "outputs": [
        {
          "output_type": "execute_result",
          "data": {
            "text/plain": [
              "16"
            ]
          },
          "metadata": {
            "tags": []
          },
          "execution_count": 22
        }
      ]
    },
    {
      "cell_type": "code",
      "metadata": {
        "id": "LYfIoM4cRKxn",
        "colab_type": "code",
        "colab": {}
      },
      "source": [
        "bools=np.array([False,False,True,True,False])\n"
      ],
      "execution_count": 23,
      "outputs": []
    },
    {
      "cell_type": "code",
      "metadata": {
        "id": "IRx4yxvBSENU",
        "colab_type": "code",
        "colab": {
          "base_uri": "https://localhost:8080/",
          "height": 34
        },
        "outputId": "f74d695b-a521-4ca2-a3c0-c484cf012b5f"
      },
      "source": [
        "bools.any()"
      ],
      "execution_count": 24,
      "outputs": [
        {
          "output_type": "execute_result",
          "data": {
            "text/plain": [
              "True"
            ]
          },
          "metadata": {
            "tags": []
          },
          "execution_count": 24
        }
      ]
    },
    {
      "cell_type": "code",
      "metadata": {
        "id": "jLscQCi6SIl2",
        "colab_type": "code",
        "colab": {
          "base_uri": "https://localhost:8080/",
          "height": 34
        },
        "outputId": "111a70b0-c8b4-4897-ad92-39ca7d804166"
      },
      "source": [
        "bools.all()"
      ],
      "execution_count": 25,
      "outputs": [
        {
          "output_type": "execute_result",
          "data": {
            "text/plain": [
              "False"
            ]
          },
          "metadata": {
            "tags": []
          },
          "execution_count": 25
        }
      ]
    },
    {
      "cell_type": "markdown",
      "metadata": {
        "id": "-eGwkkohZ5kB",
        "colab_type": "text"
      },
      "source": [
        "# Sorting"
      ]
    },
    {
      "cell_type": "code",
      "metadata": {
        "id": "B4YAqzbgSKlQ",
        "colab_type": "code",
        "colab": {
          "base_uri": "https://localhost:8080/",
          "height": 102
        },
        "outputId": "b6588069-9716-490b-f5a1-552016998800"
      },
      "source": [
        "array=np.random.rand(5,3)\n",
        "array"
      ],
      "execution_count": 26,
      "outputs": [
        {
          "output_type": "execute_result",
          "data": {
            "text/plain": [
              "array([[0.415311  , 0.63817952, 0.21359842],\n",
              "       [0.25521399, 0.48869798, 0.05504283],\n",
              "       [0.38346041, 0.57195535, 0.10451167],\n",
              "       [0.0110542 , 0.73169344, 0.76134223],\n",
              "       [0.43391055, 0.69569409, 0.49004755]])"
            ]
          },
          "metadata": {
            "tags": []
          },
          "execution_count": 26
        }
      ]
    },
    {
      "cell_type": "code",
      "metadata": {
        "id": "Y9eqHYt3aKTe",
        "colab_type": "code",
        "colab": {
          "base_uri": "https://localhost:8080/",
          "height": 102
        },
        "outputId": "c61dd63c-ce66-4a68-95da-e9cfab40f933"
      },
      "source": [
        "array.sort(1)\n",
        "array"
      ],
      "execution_count": 27,
      "outputs": [
        {
          "output_type": "execute_result",
          "data": {
            "text/plain": [
              "array([[0.21359842, 0.415311  , 0.63817952],\n",
              "       [0.05504283, 0.25521399, 0.48869798],\n",
              "       [0.10451167, 0.38346041, 0.57195535],\n",
              "       [0.0110542 , 0.73169344, 0.76134223],\n",
              "       [0.43391055, 0.49004755, 0.69569409]])"
            ]
          },
          "metadata": {
            "tags": []
          },
          "execution_count": 27
        }
      ]
    },
    {
      "cell_type": "code",
      "metadata": {
        "id": "GfKx6zBZa1hQ",
        "colab_type": "code",
        "colab": {}
      },
      "source": [
        "large_array=np.random.rand(1000)"
      ],
      "execution_count": 28,
      "outputs": []
    },
    {
      "cell_type": "code",
      "metadata": {
        "id": "3VUid55MleVW",
        "colab_type": "code",
        "colab": {
          "base_uri": "https://localhost:8080/",
          "height": 1000
        },
        "outputId": "cdec302a-3338-4953-8962-8f7ea7a7e4a1"
      },
      "source": [
        "large_array.sort()\n",
        "large_array"
      ],
      "execution_count": 30,
      "outputs": [
        {
          "output_type": "execute_result",
          "data": {
            "text/plain": [
              "array([7.23697616e-04, 3.04217610e-03, 3.89651354e-03, 4.07761489e-03,\n",
              "       5.91902132e-03, 8.23970492e-03, 8.38766678e-03, 1.04655958e-02,\n",
              "       1.28387547e-02, 1.31892394e-02, 1.32016595e-02, 1.49818251e-02,\n",
              "       1.52601386e-02, 1.72169810e-02, 1.89035132e-02, 2.02585340e-02,\n",
              "       2.03361101e-02, 2.38258234e-02, 2.39626733e-02, 2.39648680e-02,\n",
              "       2.44043038e-02, 2.44153957e-02, 2.46763137e-02, 2.60678025e-02,\n",
              "       2.66990139e-02, 2.67832422e-02, 2.69625414e-02, 2.75605868e-02,\n",
              "       2.79539259e-02, 3.02451707e-02, 3.04676335e-02, 3.40626355e-02,\n",
              "       3.41348393e-02, 3.41520548e-02, 3.42010331e-02, 3.55368064e-02,\n",
              "       3.58188439e-02, 3.62316022e-02, 3.64774173e-02, 3.67660354e-02,\n",
              "       3.67740470e-02, 3.81106290e-02, 3.82315825e-02, 3.83729110e-02,\n",
              "       3.92592388e-02, 4.08548302e-02, 4.21724370e-02, 4.34454211e-02,\n",
              "       4.50167238e-02, 4.56004964e-02, 4.56904147e-02, 4.75696682e-02,\n",
              "       4.76738447e-02, 4.87726582e-02, 4.93267034e-02, 5.12194271e-02,\n",
              "       5.15012819e-02, 5.19273755e-02, 5.28435280e-02, 5.33243332e-02,\n",
              "       5.36176198e-02, 5.48347673e-02, 5.59917655e-02, 5.62594666e-02,\n",
              "       5.74647799e-02, 5.78687445e-02, 5.95747348e-02, 5.99547858e-02,\n",
              "       6.01141263e-02, 6.08305409e-02, 6.09254164e-02, 6.12781157e-02,\n",
              "       6.21648430e-02, 6.27175351e-02, 6.27725382e-02, 6.49478707e-02,\n",
              "       6.53603687e-02, 6.72893541e-02, 6.80083468e-02, 6.81861682e-02,\n",
              "       7.01969556e-02, 7.63602649e-02, 7.66435119e-02, 7.66763801e-02,\n",
              "       7.70394753e-02, 7.75035997e-02, 7.91372148e-02, 7.94888031e-02,\n",
              "       8.00091963e-02, 8.01937980e-02, 8.03403209e-02, 8.09209251e-02,\n",
              "       8.10041192e-02, 8.12151139e-02, 8.14852263e-02, 8.25000966e-02,\n",
              "       8.28443894e-02, 8.38437367e-02, 8.56305036e-02, 8.57082607e-02,\n",
              "       8.75034622e-02, 8.76550495e-02, 8.83629639e-02, 8.96064079e-02,\n",
              "       8.96521253e-02, 9.01457066e-02, 9.03530053e-02, 9.04101242e-02,\n",
              "       9.24034485e-02, 9.40451366e-02, 9.46789326e-02, 9.55626307e-02,\n",
              "       9.58280073e-02, 9.84901291e-02, 9.86035758e-02, 9.98107380e-02,\n",
              "       1.01528504e-01, 1.02761337e-01, 1.02987450e-01, 1.09770803e-01,\n",
              "       1.11460683e-01, 1.11941233e-01, 1.12363635e-01, 1.12489891e-01,\n",
              "       1.13818442e-01, 1.14766242e-01, 1.17652670e-01, 1.23751390e-01,\n",
              "       1.25158556e-01, 1.26216100e-01, 1.26314841e-01, 1.27215505e-01,\n",
              "       1.28443352e-01, 1.31167107e-01, 1.32461194e-01, 1.32471979e-01,\n",
              "       1.33042398e-01, 1.35091552e-01, 1.37845628e-01, 1.37931431e-01,\n",
              "       1.42348156e-01, 1.42483431e-01, 1.44286546e-01, 1.44701578e-01,\n",
              "       1.45857642e-01, 1.46534450e-01, 1.47671382e-01, 1.48162265e-01,\n",
              "       1.48791636e-01, 1.50337473e-01, 1.51096752e-01, 1.52136019e-01,\n",
              "       1.52610051e-01, 1.54940356e-01, 1.55564766e-01, 1.55834766e-01,\n",
              "       1.56007154e-01, 1.58919803e-01, 1.59575045e-01, 1.60472433e-01,\n",
              "       1.60563914e-01, 1.62234759e-01, 1.62447526e-01, 1.63687391e-01,\n",
              "       1.65389444e-01, 1.65770353e-01, 1.65857653e-01, 1.67400779e-01,\n",
              "       1.68318012e-01, 1.69778628e-01, 1.69929100e-01, 1.70530142e-01,\n",
              "       1.70848593e-01, 1.70976931e-01, 1.71328789e-01, 1.71458289e-01,\n",
              "       1.71477793e-01, 1.71967444e-01, 1.72623044e-01, 1.72676234e-01,\n",
              "       1.73561214e-01, 1.74025931e-01, 1.74037503e-01, 1.74139453e-01,\n",
              "       1.74999707e-01, 1.76216738e-01, 1.77656674e-01, 1.77753408e-01,\n",
              "       1.77908150e-01, 1.79311974e-01, 1.80028657e-01, 1.80144370e-01,\n",
              "       1.80194500e-01, 1.81179538e-01, 1.81199319e-01, 1.82655160e-01,\n",
              "       1.83055589e-01, 1.83716250e-01, 1.83862437e-01, 1.85372416e-01,\n",
              "       1.86902925e-01, 1.89096406e-01, 1.89705124e-01, 1.90010357e-01,\n",
              "       1.91890453e-01, 1.92468231e-01, 1.94519772e-01, 1.96668506e-01,\n",
              "       1.99346670e-01, 2.00217317e-01, 2.00446303e-01, 2.00610887e-01,\n",
              "       2.02906185e-01, 2.03359843e-01, 2.04041292e-01, 2.04363545e-01,\n",
              "       2.04643227e-01, 2.05552707e-01, 2.08611707e-01, 2.11283915e-01,\n",
              "       2.11979309e-01, 2.15289670e-01, 2.15337715e-01, 2.15515800e-01,\n",
              "       2.17526774e-01, 2.18996643e-01, 2.20103605e-01, 2.22707291e-01,\n",
              "       2.24046650e-01, 2.24211062e-01, 2.25667011e-01, 2.27134239e-01,\n",
              "       2.28265649e-01, 2.28398187e-01, 2.29263223e-01, 2.33388619e-01,\n",
              "       2.33642417e-01, 2.33782181e-01, 2.35456025e-01, 2.37158164e-01,\n",
              "       2.38030027e-01, 2.38304443e-01, 2.38588530e-01, 2.39175853e-01,\n",
              "       2.39663010e-01, 2.40010428e-01, 2.40769864e-01, 2.42449171e-01,\n",
              "       2.42572541e-01, 2.42929742e-01, 2.43623061e-01, 2.45502125e-01,\n",
              "       2.45874435e-01, 2.47260874e-01, 2.48585288e-01, 2.49100701e-01,\n",
              "       2.49645655e-01, 2.50320855e-01, 2.50489287e-01, 2.51104084e-01,\n",
              "       2.51312932e-01, 2.52756634e-01, 2.54674807e-01, 2.55374271e-01,\n",
              "       2.55680457e-01, 2.55981069e-01, 2.56071388e-01, 2.56436463e-01,\n",
              "       2.56627208e-01, 2.58366177e-01, 2.58896923e-01, 2.59407282e-01,\n",
              "       2.59790465e-01, 2.59989477e-01, 2.60080349e-01, 2.60328429e-01,\n",
              "       2.60924884e-01, 2.63578782e-01, 2.64591842e-01, 2.66631733e-01,\n",
              "       2.68177636e-01, 2.68217390e-01, 2.72124710e-01, 2.73571769e-01,\n",
              "       2.76109008e-01, 2.76243214e-01, 2.77758037e-01, 2.78224458e-01,\n",
              "       2.78629817e-01, 2.79300361e-01, 2.82135465e-01, 2.82232531e-01,\n",
              "       2.83953424e-01, 2.85851768e-01, 2.87058921e-01, 2.88418241e-01,\n",
              "       2.93539882e-01, 2.94861076e-01, 2.95704028e-01, 2.97477180e-01,\n",
              "       3.00643988e-01, 3.02189941e-01, 3.03983173e-01, 3.07409807e-01,\n",
              "       3.07988133e-01, 3.08842853e-01, 3.09084017e-01, 3.09454848e-01,\n",
              "       3.09545680e-01, 3.09867179e-01, 3.10794749e-01, 3.11883914e-01,\n",
              "       3.14182257e-01, 3.18702360e-01, 3.19138329e-01, 3.19977118e-01,\n",
              "       3.20295181e-01, 3.20556365e-01, 3.21461247e-01, 3.23394286e-01,\n",
              "       3.23602696e-01, 3.25123772e-01, 3.25561636e-01, 3.27793475e-01,\n",
              "       3.29848780e-01, 3.33792215e-01, 3.34072232e-01, 3.34571033e-01,\n",
              "       3.35424868e-01, 3.38491189e-01, 3.38507550e-01, 3.40168478e-01,\n",
              "       3.40347942e-01, 3.40566189e-01, 3.40915306e-01, 3.42238859e-01,\n",
              "       3.42958407e-01, 3.43456814e-01, 3.44319984e-01, 3.45705960e-01,\n",
              "       3.45918878e-01, 3.46286260e-01, 3.46962694e-01, 3.47734529e-01,\n",
              "       3.48250956e-01, 3.50218730e-01, 3.50456233e-01, 3.51055260e-01,\n",
              "       3.51209232e-01, 3.51840853e-01, 3.52013712e-01, 3.52122765e-01,\n",
              "       3.54739227e-01, 3.55298491e-01, 3.55438868e-01, 3.56211627e-01,\n",
              "       3.56694526e-01, 3.57798015e-01, 3.60884798e-01, 3.61597494e-01,\n",
              "       3.61891023e-01, 3.62302130e-01, 3.62639915e-01, 3.62879950e-01,\n",
              "       3.63034844e-01, 3.63051455e-01, 3.63392887e-01, 3.63491813e-01,\n",
              "       3.63493281e-01, 3.64373419e-01, 3.64932236e-01, 3.66770341e-01,\n",
              "       3.68932653e-01, 3.69256094e-01, 3.71296253e-01, 3.71414692e-01,\n",
              "       3.71494932e-01, 3.72559200e-01, 3.73823372e-01, 3.73914111e-01,\n",
              "       3.75747284e-01, 3.76734182e-01, 3.77480423e-01, 3.77613171e-01,\n",
              "       3.77810911e-01, 3.77928167e-01, 3.78260650e-01, 3.78417316e-01,\n",
              "       3.78991385e-01, 3.80792697e-01, 3.81691126e-01, 3.83804131e-01,\n",
              "       3.83866380e-01, 3.86586790e-01, 3.87290970e-01, 3.87828064e-01,\n",
              "       3.89019724e-01, 3.89412935e-01, 3.89535986e-01, 3.91018461e-01,\n",
              "       3.91087418e-01, 3.92035125e-01, 3.94704949e-01, 3.94796229e-01,\n",
              "       3.95132066e-01, 3.95910812e-01, 3.96692670e-01, 3.97023395e-01,\n",
              "       3.97259910e-01, 3.98110614e-01, 3.99368491e-01, 4.00707720e-01,\n",
              "       4.01193315e-01, 4.03350052e-01, 4.03985992e-01, 4.07407801e-01,\n",
              "       4.07879936e-01, 4.07963517e-01, 4.08541457e-01, 4.08894672e-01,\n",
              "       4.08951342e-01, 4.10293378e-01, 4.10833757e-01, 4.11623154e-01,\n",
              "       4.13051184e-01, 4.13471140e-01, 4.16484981e-01, 4.16709999e-01,\n",
              "       4.18375196e-01, 4.19817770e-01, 4.20027119e-01, 4.21524713e-01,\n",
              "       4.24064563e-01, 4.24316888e-01, 4.25228096e-01, 4.26119716e-01,\n",
              "       4.26184517e-01, 4.26331043e-01, 4.26416401e-01, 4.26710274e-01,\n",
              "       4.27458897e-01, 4.28347143e-01, 4.28843280e-01, 4.29245428e-01,\n",
              "       4.29932022e-01, 4.29986075e-01, 4.31016152e-01, 4.31833214e-01,\n",
              "       4.32129856e-01, 4.32556398e-01, 4.33494438e-01, 4.35365009e-01,\n",
              "       4.38931706e-01, 4.39590983e-01, 4.39662430e-01, 4.40680622e-01,\n",
              "       4.41148226e-01, 4.41227333e-01, 4.42026976e-01, 4.44698744e-01,\n",
              "       4.45322165e-01, 4.46533100e-01, 4.48909827e-01, 4.49987922e-01,\n",
              "       4.53994135e-01, 4.54296334e-01, 4.55771039e-01, 4.57707785e-01,\n",
              "       4.59433777e-01, 4.61939178e-01, 4.65426823e-01, 4.65692439e-01,\n",
              "       4.66999027e-01, 4.68216536e-01, 4.69053042e-01, 4.70374856e-01,\n",
              "       4.71997517e-01, 4.72517171e-01, 4.73201467e-01, 4.75192756e-01,\n",
              "       4.76334916e-01, 4.78631591e-01, 4.78861690e-01, 4.81005828e-01,\n",
              "       4.81080865e-01, 4.82794042e-01, 4.84209781e-01, 4.85894720e-01,\n",
              "       4.86530483e-01, 4.87274760e-01, 4.88260254e-01, 4.90848610e-01,\n",
              "       4.91129317e-01, 4.91367613e-01, 4.91722213e-01, 4.92377375e-01,\n",
              "       4.92469157e-01, 4.95002085e-01, 4.95296534e-01, 4.96062701e-01,\n",
              "       4.96655078e-01, 4.97022831e-01, 5.01731829e-01, 5.02134775e-01,\n",
              "       5.02441052e-01, 5.03166689e-01, 5.04974316e-01, 5.06402896e-01,\n",
              "       5.08017977e-01, 5.09835017e-01, 5.14469592e-01, 5.14853244e-01,\n",
              "       5.15158866e-01, 5.15848313e-01, 5.16136286e-01, 5.16628357e-01,\n",
              "       5.16765088e-01, 5.17945562e-01, 5.21608376e-01, 5.23616322e-01,\n",
              "       5.25010507e-01, 5.25057353e-01, 5.26017849e-01, 5.27592763e-01,\n",
              "       5.28385086e-01, 5.30506981e-01, 5.31890077e-01, 5.32480424e-01,\n",
              "       5.33589074e-01, 5.37464009e-01, 5.37680945e-01, 5.39062627e-01,\n",
              "       5.41877427e-01, 5.42152839e-01, 5.42990318e-01, 5.43078899e-01,\n",
              "       5.43101895e-01, 5.43750283e-01, 5.44021983e-01, 5.45326309e-01,\n",
              "       5.48302219e-01, 5.50955696e-01, 5.51759466e-01, 5.54138312e-01,\n",
              "       5.54451051e-01, 5.56059707e-01, 5.56307541e-01, 5.56386606e-01,\n",
              "       5.56726605e-01, 5.56771861e-01, 5.58297415e-01, 5.58532433e-01,\n",
              "       5.59516814e-01, 5.59825095e-01, 5.60506260e-01, 5.61009088e-01,\n",
              "       5.62195604e-01, 5.63668131e-01, 5.64829694e-01, 5.65079151e-01,\n",
              "       5.66075157e-01, 5.66153314e-01, 5.66676694e-01, 5.67710357e-01,\n",
              "       5.67798212e-01, 5.68983072e-01, 5.70202032e-01, 5.71130313e-01,\n",
              "       5.72571459e-01, 5.73052697e-01, 5.77087928e-01, 5.77153102e-01,\n",
              "       5.80557931e-01, 5.81280072e-01, 5.81697889e-01, 5.81959397e-01,\n",
              "       5.82065039e-01, 5.82577435e-01, 5.84689496e-01, 5.86319525e-01,\n",
              "       5.87472423e-01, 5.87566321e-01, 5.88580452e-01, 5.89494505e-01,\n",
              "       5.90432627e-01, 5.90445166e-01, 5.93997127e-01, 5.94560992e-01,\n",
              "       5.95231706e-01, 5.96330945e-01, 5.97695316e-01, 5.98015207e-01,\n",
              "       5.98302228e-01, 5.98822617e-01, 6.00903733e-01, 6.01053014e-01,\n",
              "       6.01679053e-01, 6.03314792e-01, 6.03368939e-01, 6.04080623e-01,\n",
              "       6.04602310e-01, 6.05305626e-01, 6.06582377e-01, 6.07305630e-01,\n",
              "       6.07672556e-01, 6.09004798e-01, 6.09053570e-01, 6.10768410e-01,\n",
              "       6.12134180e-01, 6.12327646e-01, 6.12526515e-01, 6.12824591e-01,\n",
              "       6.14321644e-01, 6.14753084e-01, 6.14823770e-01, 6.15530090e-01,\n",
              "       6.16200094e-01, 6.16236240e-01, 6.18011938e-01, 6.18365599e-01,\n",
              "       6.19125504e-01, 6.21524443e-01, 6.23529316e-01, 6.23567841e-01,\n",
              "       6.25686416e-01, 6.25788617e-01, 6.26990188e-01, 6.27083994e-01,\n",
              "       6.30065227e-01, 6.31073179e-01, 6.32928326e-01, 6.33753664e-01,\n",
              "       6.35208863e-01, 6.36257509e-01, 6.37930919e-01, 6.38323542e-01,\n",
              "       6.40253165e-01, 6.41672367e-01, 6.42495915e-01, 6.43409074e-01,\n",
              "       6.43471067e-01, 6.44630977e-01, 6.45165103e-01, 6.45497400e-01,\n",
              "       6.46840861e-01, 6.48811158e-01, 6.48938496e-01, 6.50423963e-01,\n",
              "       6.50445602e-01, 6.51340705e-01, 6.54008014e-01, 6.55908264e-01,\n",
              "       6.56142488e-01, 6.56376992e-01, 6.56788831e-01, 6.56984947e-01,\n",
              "       6.59001350e-01, 6.59439453e-01, 6.59823205e-01, 6.59946319e-01,\n",
              "       6.60980924e-01, 6.62571207e-01, 6.63425670e-01, 6.63646138e-01,\n",
              "       6.63878396e-01, 6.64840846e-01, 6.65158838e-01, 6.66709716e-01,\n",
              "       6.67082403e-01, 6.67475158e-01, 6.68137779e-01, 6.70106877e-01,\n",
              "       6.70263048e-01, 6.70945153e-01, 6.71780084e-01, 6.72616052e-01,\n",
              "       6.75754160e-01, 6.76888533e-01, 6.77036722e-01, 6.78731612e-01,\n",
              "       6.79538980e-01, 6.80483773e-01, 6.80859217e-01, 6.81748248e-01,\n",
              "       6.82921805e-01, 6.83255090e-01, 6.83651351e-01, 6.84517836e-01,\n",
              "       6.85135935e-01, 6.85376541e-01, 6.85644569e-01, 6.86974425e-01,\n",
              "       6.87871457e-01, 6.88788531e-01, 6.91988768e-01, 6.92823349e-01,\n",
              "       6.94126454e-01, 6.94474634e-01, 6.95264543e-01, 6.96147131e-01,\n",
              "       6.96894901e-01, 7.00008012e-01, 7.01383846e-01, 7.02515138e-01,\n",
              "       7.03850932e-01, 7.04251071e-01, 7.04388787e-01, 7.04853141e-01,\n",
              "       7.05670588e-01, 7.07109031e-01, 7.07457659e-01, 7.08214904e-01,\n",
              "       7.08829092e-01, 7.12921009e-01, 7.12991375e-01, 7.16449125e-01,\n",
              "       7.16837232e-01, 7.16923233e-01, 7.17547533e-01, 7.17616762e-01,\n",
              "       7.21242645e-01, 7.22523723e-01, 7.22804855e-01, 7.22821924e-01,\n",
              "       7.24211970e-01, 7.24302154e-01, 7.26958551e-01, 7.27832018e-01,\n",
              "       7.28022004e-01, 7.28978491e-01, 7.32805128e-01, 7.33313870e-01,\n",
              "       7.33325071e-01, 7.34254823e-01, 7.35610303e-01, 7.41736169e-01,\n",
              "       7.42330770e-01, 7.42351152e-01, 7.44699655e-01, 7.44876557e-01,\n",
              "       7.45704987e-01, 7.47105099e-01, 7.47820437e-01, 7.49005409e-01,\n",
              "       7.49198187e-01, 7.54003833e-01, 7.54300660e-01, 7.54420813e-01,\n",
              "       7.56330106e-01, 7.56609982e-01, 7.57364667e-01, 7.62730834e-01,\n",
              "       7.63208358e-01, 7.63842084e-01, 7.63863305e-01, 7.64399772e-01,\n",
              "       7.64633600e-01, 7.65845973e-01, 7.65948827e-01, 7.66488507e-01,\n",
              "       7.68123834e-01, 7.68161632e-01, 7.71152873e-01, 7.71599756e-01,\n",
              "       7.72100446e-01, 7.73597812e-01, 7.74047585e-01, 7.74462285e-01,\n",
              "       7.74905422e-01, 7.75130743e-01, 7.76867089e-01, 7.77493598e-01,\n",
              "       7.78962779e-01, 7.78967687e-01, 7.78998254e-01, 7.79449226e-01,\n",
              "       7.80084509e-01, 7.82555368e-01, 7.82810160e-01, 7.82958060e-01,\n",
              "       7.83698726e-01, 7.83699946e-01, 7.86465649e-01, 7.87432510e-01,\n",
              "       7.88169408e-01, 7.88239691e-01, 7.89063106e-01, 7.89680108e-01,\n",
              "       7.91280361e-01, 7.91741452e-01, 7.92226406e-01, 7.93116631e-01,\n",
              "       7.93326823e-01, 7.93697969e-01, 7.94143666e-01, 7.94145909e-01,\n",
              "       7.95107426e-01, 7.96172878e-01, 7.96987421e-01, 7.97874825e-01,\n",
              "       7.98820066e-01, 7.99764151e-01, 8.00587812e-01, 8.02062544e-01,\n",
              "       8.02115485e-01, 8.05469225e-01, 8.09704233e-01, 8.09825786e-01,\n",
              "       8.11452271e-01, 8.11802606e-01, 8.11832308e-01, 8.12783399e-01,\n",
              "       8.14363911e-01, 8.15892685e-01, 8.19605287e-01, 8.20228023e-01,\n",
              "       8.20522629e-01, 8.22996570e-01, 8.23159060e-01, 8.23448929e-01,\n",
              "       8.23616460e-01, 8.24091608e-01, 8.24275398e-01, 8.24623981e-01,\n",
              "       8.26768416e-01, 8.28478069e-01, 8.28683526e-01, 8.30202160e-01,\n",
              "       8.30590994e-01, 8.31661161e-01, 8.31833536e-01, 8.32548942e-01,\n",
              "       8.35032291e-01, 8.35112579e-01, 8.36259404e-01, 8.36802721e-01,\n",
              "       8.37382422e-01, 8.38490839e-01, 8.38794721e-01, 8.41849401e-01,\n",
              "       8.41902236e-01, 8.42662851e-01, 8.43044380e-01, 8.43049138e-01,\n",
              "       8.43891426e-01, 8.46362401e-01, 8.47561261e-01, 8.48699486e-01,\n",
              "       8.48704503e-01, 8.49221744e-01, 8.49701330e-01, 8.51613256e-01,\n",
              "       8.52335578e-01, 8.52570310e-01, 8.53077459e-01, 8.53674892e-01,\n",
              "       8.54068575e-01, 8.54341923e-01, 8.54532460e-01, 8.56177967e-01,\n",
              "       8.56760807e-01, 8.58133313e-01, 8.58498477e-01, 8.58916813e-01,\n",
              "       8.59056791e-01, 8.60484873e-01, 8.67686709e-01, 8.67933563e-01,\n",
              "       8.68166011e-01, 8.68886257e-01, 8.69034380e-01, 8.70002900e-01,\n",
              "       8.70071153e-01, 8.70684298e-01, 8.71259097e-01, 8.72107108e-01,\n",
              "       8.72423165e-01, 8.73217606e-01, 8.73526430e-01, 8.75922063e-01,\n",
              "       8.77294826e-01, 8.77621741e-01, 8.77833345e-01, 8.79003963e-01,\n",
              "       8.79965326e-01, 8.80099946e-01, 8.81292793e-01, 8.81464393e-01,\n",
              "       8.82979405e-01, 8.84474436e-01, 8.85390719e-01, 8.85457929e-01,\n",
              "       8.88668668e-01, 8.91369675e-01, 8.93091550e-01, 8.94075173e-01,\n",
              "       8.95397333e-01, 8.95539865e-01, 8.95826977e-01, 8.96200450e-01,\n",
              "       8.97515358e-01, 8.99004188e-01, 8.99024534e-01, 9.01293841e-01,\n",
              "       9.01505196e-01, 9.04567615e-01, 9.05409445e-01, 9.05475794e-01,\n",
              "       9.05659895e-01, 9.06297260e-01, 9.08369134e-01, 9.10846382e-01,\n",
              "       9.11008329e-01, 9.11503795e-01, 9.12881683e-01, 9.13464167e-01,\n",
              "       9.13853896e-01, 9.14408044e-01, 9.14555850e-01, 9.14588551e-01,\n",
              "       9.15951895e-01, 9.16408736e-01, 9.16764458e-01, 9.17392199e-01,\n",
              "       9.17401925e-01, 9.17534643e-01, 9.17684085e-01, 9.18430404e-01,\n",
              "       9.20475044e-01, 9.22785121e-01, 9.23115180e-01, 9.23245644e-01,\n",
              "       9.24384841e-01, 9.25038642e-01, 9.25681738e-01, 9.27502995e-01,\n",
              "       9.27641253e-01, 9.28190719e-01, 9.28873754e-01, 9.29319831e-01,\n",
              "       9.29581321e-01, 9.31337893e-01, 9.31584916e-01, 9.32493807e-01,\n",
              "       9.33982613e-01, 9.36810552e-01, 9.38862652e-01, 9.39357950e-01,\n",
              "       9.40101644e-01, 9.41414013e-01, 9.41888160e-01, 9.43209286e-01,\n",
              "       9.45542427e-01, 9.47098188e-01, 9.47754054e-01, 9.48673830e-01,\n",
              "       9.49619829e-01, 9.50468923e-01, 9.53522102e-01, 9.54272451e-01,\n",
              "       9.60312814e-01, 9.60461438e-01, 9.61948878e-01, 9.62329575e-01,\n",
              "       9.63796911e-01, 9.64447386e-01, 9.66233311e-01, 9.66375661e-01,\n",
              "       9.67760319e-01, 9.68385101e-01, 9.68534122e-01, 9.70310171e-01,\n",
              "       9.71531876e-01, 9.71861506e-01, 9.71978175e-01, 9.74485018e-01,\n",
              "       9.74958182e-01, 9.75407862e-01, 9.76825627e-01, 9.77364092e-01,\n",
              "       9.78349050e-01, 9.81066279e-01, 9.82407078e-01, 9.82871829e-01,\n",
              "       9.83445668e-01, 9.85154234e-01, 9.85202761e-01, 9.86168341e-01,\n",
              "       9.88094443e-01, 9.89359025e-01, 9.90775681e-01, 9.90790631e-01,\n",
              "       9.91615051e-01, 9.93222707e-01, 9.94079809e-01, 9.94310146e-01,\n",
              "       9.96524857e-01, 9.96545199e-01, 9.98622949e-01, 9.99804949e-01])"
            ]
          },
          "metadata": {
            "tags": []
          },
          "execution_count": 30
        }
      ]
    },
    {
      "cell_type": "code",
      "metadata": {
        "id": "lkR4TTFTllhd",
        "colab_type": "code",
        "colab": {
          "base_uri": "https://localhost:8080/",
          "height": 34
        },
        "outputId": "3e8b440f-d798-49c8-f8a1-a6d2f597d951"
      },
      "source": [
        "large_array[int(0.05*len(large_array))]"
      ],
      "execution_count": 31,
      "outputs": [
        {
          "output_type": "execute_result",
          "data": {
            "text/plain": [
              "0.0456904147491598"
            ]
          },
          "metadata": {
            "tags": []
          },
          "execution_count": 31
        }
      ]
    },
    {
      "cell_type": "markdown",
      "metadata": {
        "id": "O3EMzmEzmBrG",
        "colab_type": "text"
      },
      "source": [
        "# Unique and Other Set Logic"
      ]
    },
    {
      "cell_type": "code",
      "metadata": {
        "id": "zZVHKyi9l4AM",
        "colab_type": "code",
        "colab": {}
      },
      "source": [
        "names=np.array(['Alek','Rama','Alek','John'])"
      ],
      "execution_count": 32,
      "outputs": []
    },
    {
      "cell_type": "code",
      "metadata": {
        "id": "3hNYfDhQmqK0",
        "colab_type": "code",
        "colab": {
          "base_uri": "https://localhost:8080/",
          "height": 34
        },
        "outputId": "bdd65ae5-2294-45da-a844-b2197c6e1418"
      },
      "source": [
        "#Compute the sorted, unique elements in x\n",
        "np.unique(names)"
      ],
      "execution_count": 33,
      "outputs": [
        {
          "output_type": "execute_result",
          "data": {
            "text/plain": [
              "array(['Alek', 'John', 'Rama'], dtype='<U4')"
            ]
          },
          "metadata": {
            "tags": []
          },
          "execution_count": 33
        }
      ]
    },
    {
      "cell_type": "code",
      "metadata": {
        "id": "zi3u5H6Jm1HZ",
        "colab_type": "code",
        "colab": {}
      },
      "source": [
        "ints=np.array([3,3,2,2,8,9,7,7,8,7])"
      ],
      "execution_count": 34,
      "outputs": []
    },
    {
      "cell_type": "code",
      "metadata": {
        "id": "8FEm0RCynDeS",
        "colab_type": "code",
        "colab": {
          "base_uri": "https://localhost:8080/",
          "height": 34
        },
        "outputId": "569aabb3-87c2-440c-f39f-7914306cc16c"
      },
      "source": [
        "np.unique(ints)"
      ],
      "execution_count": 35,
      "outputs": [
        {
          "output_type": "execute_result",
          "data": {
            "text/plain": [
              "array([2, 3, 7, 8, 9])"
            ]
          },
          "metadata": {
            "tags": []
          },
          "execution_count": 35
        }
      ]
    },
    {
      "cell_type": "code",
      "metadata": {
        "id": "mxnVWNsOnYPx",
        "colab_type": "code",
        "colab": {
          "base_uri": "https://localhost:8080/",
          "height": 34
        },
        "outputId": "cedfb555-bf99-4643-955b-6859d104500a"
      },
      "source": [
        "#The sorted method is the alternative of unique\n",
        "sorted(set(names))"
      ],
      "execution_count": 36,
      "outputs": [
        {
          "output_type": "execute_result",
          "data": {
            "text/plain": [
              "['Alek', 'John', 'Rama']"
            ]
          },
          "metadata": {
            "tags": []
          },
          "execution_count": 36
        }
      ]
    },
    {
      "cell_type": "code",
      "metadata": {
        "id": "I6Kj1Zbcn3E-",
        "colab_type": "code",
        "colab": {
          "base_uri": "https://localhost:8080/",
          "height": 51
        },
        "outputId": "a6da0a3f-950a-439f-af05-f57239802b58"
      },
      "source": [
        "#Compute a boolean array indicating whether each element of x is contained y\n",
        "values=np.array([6,0,2,2,2,2,2,9,9,9,7,4,5,6,8,1,3])\n",
        "values_1=np.array([4,5,6])\n",
        "np.in1d(values,values_1)"
      ],
      "execution_count": 37,
      "outputs": [
        {
          "output_type": "execute_result",
          "data": {
            "text/plain": [
              "array([ True, False, False, False, False, False, False, False, False,\n",
              "       False, False,  True,  True,  True, False, False, False])"
            ]
          },
          "metadata": {
            "tags": []
          },
          "execution_count": 37
        }
      ]
    },
    {
      "cell_type": "code",
      "metadata": {
        "id": "575F2FnipF07",
        "colab_type": "code",
        "colab": {
          "base_uri": "https://localhost:8080/",
          "height": 34
        },
        "outputId": "48a3b9a3-7856-4f50-9a2d-cd6872d37845"
      },
      "source": [
        "#Compute the sorted common element in x and y\n",
        "np.intersect1d(values,values_1)"
      ],
      "execution_count": 38,
      "outputs": [
        {
          "output_type": "execute_result",
          "data": {
            "text/plain": [
              "array([4, 5, 6])"
            ]
          },
          "metadata": {
            "tags": []
          },
          "execution_count": 38
        }
      ]
    },
    {
      "cell_type": "code",
      "metadata": {
        "id": "g8AUX2rAp7g-",
        "colab_type": "code",
        "colab": {
          "base_uri": "https://localhost:8080/",
          "height": 34
        },
        "outputId": "f410cdb0-5497-412b-e5e8-054d59a7ab82"
      },
      "source": [
        "#Compute the sorted union of elements\n",
        "np.union1d(values,values_1)"
      ],
      "execution_count": 39,
      "outputs": [
        {
          "output_type": "execute_result",
          "data": {
            "text/plain": [
              "array([0, 1, 2, 3, 4, 5, 6, 7, 8, 9])"
            ]
          },
          "metadata": {
            "tags": []
          },
          "execution_count": 39
        }
      ]
    },
    {
      "cell_type": "code",
      "metadata": {
        "id": "gKGdAebmqUcb",
        "colab_type": "code",
        "colab": {
          "base_uri": "https://localhost:8080/",
          "height": 34
        },
        "outputId": "40886456-6e0c-41cc-a874-a773ea8333af"
      },
      "source": [
        "#Set difference in element in x that not in y\n",
        "np.setdiff1d(values,values_1)"
      ],
      "execution_count": 40,
      "outputs": [
        {
          "output_type": "execute_result",
          "data": {
            "text/plain": [
              "array([0, 1, 2, 3, 7, 8, 9])"
            ]
          },
          "metadata": {
            "tags": []
          },
          "execution_count": 40
        }
      ]
    },
    {
      "cell_type": "code",
      "metadata": {
        "id": "X6SYMh7MqmQ5",
        "colab_type": "code",
        "colab": {
          "base_uri": "https://localhost:8080/",
          "height": 34
        },
        "outputId": "97b35495-9a68-4584-f42c-f71cf221a8f8"
      },
      "source": [
        "#Set symetric difference that are either in one of the array but not in both\n",
        "np.setxor1d(values,values_1)"
      ],
      "execution_count": 41,
      "outputs": [
        {
          "output_type": "execute_result",
          "data": {
            "text/plain": [
              "array([0, 1, 2, 3, 7, 8, 9])"
            ]
          },
          "metadata": {
            "tags": []
          },
          "execution_count": 41
        }
      ]
    },
    {
      "cell_type": "markdown",
      "metadata": {
        "id": "iX-hoWkJrf35",
        "colab_type": "text"
      },
      "source": [
        "# File Input and Output with Arrays"
      ]
    },
    {
      "cell_type": "code",
      "metadata": {
        "id": "7j3cNdWTrcFn",
        "colab_type": "code",
        "colab": {}
      },
      "source": [
        "''' np.save & np.load are two workhorse functions for efficiently saving and loading\n",
        "array data on disk'''\n",
        "IO=np.arange(10)"
      ],
      "execution_count": 42,
      "outputs": []
    },
    {
      "cell_type": "code",
      "metadata": {
        "id": "BmFFFT62sguv",
        "colab_type": "code",
        "colab": {}
      },
      "source": [
        "#Saving an array\n",
        "np.save('IO_SAVE',IO)"
      ],
      "execution_count": 43,
      "outputs": []
    },
    {
      "cell_type": "code",
      "metadata": {
        "id": "TXkByehVsxpA",
        "colab_type": "code",
        "colab": {
          "base_uri": "https://localhost:8080/",
          "height": 34
        },
        "outputId": "b6b3f451-0a15-40dc-ad86-58f49b85afd2"
      },
      "source": [
        "#For loading an array\n",
        "np.load('IO_SAVE.npy')"
      ],
      "execution_count": 44,
      "outputs": [
        {
          "output_type": "execute_result",
          "data": {
            "text/plain": [
              "array([0, 1, 2, 3, 4, 5, 6, 7, 8, 9])"
            ]
          },
          "metadata": {
            "tags": []
          },
          "execution_count": 44
        }
      ]
    },
    {
      "cell_type": "code",
      "metadata": {
        "id": "0x89bsujs8YE",
        "colab_type": "code",
        "colab": {}
      },
      "source": [
        "'''We can save multiple arrays in an uncompressed archive\n",
        "using np.savez and passing the array as key word argument '''\n",
        "np.savez('Archive_Array.npz',a=IO,b=IO)"
      ],
      "execution_count": 45,
      "outputs": []
    },
    {
      "cell_type": "code",
      "metadata": {
        "id": "rjLAYAa5t6ne",
        "colab_type": "code",
        "colab": {}
      },
      "source": [
        "IO_2020=np.load('Archive_Array.npz')"
      ],
      "execution_count": 46,
      "outputs": []
    },
    {
      "cell_type": "code",
      "metadata": {
        "id": "u99bmuFpun7g",
        "colab_type": "code",
        "colab": {
          "base_uri": "https://localhost:8080/",
          "height": 34
        },
        "outputId": "27953e8a-b253-4651-c650-e08bcee72518"
      },
      "source": [
        "IO_2020['b']"
      ],
      "execution_count": 47,
      "outputs": [
        {
          "output_type": "execute_result",
          "data": {
            "text/plain": [
              "array([0, 1, 2, 3, 4, 5, 6, 7, 8, 9])"
            ]
          },
          "metadata": {
            "tags": []
          },
          "execution_count": 47
        }
      ]
    },
    {
      "cell_type": "code",
      "metadata": {
        "id": "mbO9haffuyPn",
        "colab_type": "code",
        "colab": {
          "base_uri": "https://localhost:8080/",
          "height": 34
        },
        "outputId": "3361e554-b697-4895-ed51-95e2a8097ad5"
      },
      "source": [
        "IO_2020['a']"
      ],
      "execution_count": 48,
      "outputs": [
        {
          "output_type": "execute_result",
          "data": {
            "text/plain": [
              "array([0, 1, 2, 3, 4, 5, 6, 7, 8, 9])"
            ]
          },
          "metadata": {
            "tags": []
          },
          "execution_count": 48
        }
      ]
    },
    {
      "cell_type": "code",
      "metadata": {
        "id": "znQ1m1P0u0S3",
        "colab_type": "code",
        "colab": {}
      },
      "source": [
        "#inorder to compress the data\n",
        "np.savez_compressed('Archive_Array.npz',a=IO,b=IO)"
      ],
      "execution_count": 49,
      "outputs": []
    },
    {
      "cell_type": "markdown",
      "metadata": {
        "id": "6xPesaNJ4qeu",
        "colab_type": "text"
      },
      "source": [
        "# Linear Algebra"
      ]
    },
    {
      "cell_type": "code",
      "metadata": {
        "id": "J1E6H-8GvAXf",
        "colab_type": "code",
        "colab": {}
      },
      "source": [
        "x=np.array([[1,2,3],[4,5,6]])"
      ],
      "execution_count": 50,
      "outputs": []
    },
    {
      "cell_type": "code",
      "metadata": {
        "id": "HcUFkaXD6xlO",
        "colab_type": "code",
        "colab": {}
      },
      "source": [
        "y=np.array([[1,2],[3,4],[5,6]])"
      ],
      "execution_count": 51,
      "outputs": []
    },
    {
      "cell_type": "code",
      "metadata": {
        "id": "vMQuScNi7OTz",
        "colab_type": "code",
        "colab": {
          "base_uri": "https://localhost:8080/",
          "height": 51
        },
        "outputId": "ca77df53-e87c-43c0-bd40-6a10d0f1e72b"
      },
      "source": [
        "#in order to do multiplication we can use either of the following method\n",
        "x.dot(y)"
      ],
      "execution_count": 52,
      "outputs": [
        {
          "output_type": "execute_result",
          "data": {
            "text/plain": [
              "array([[22, 28],\n",
              "       [49, 64]])"
            ]
          },
          "metadata": {
            "tags": []
          },
          "execution_count": 52
        }
      ]
    },
    {
      "cell_type": "code",
      "metadata": {
        "id": "dS1KlQP68mPc",
        "colab_type": "code",
        "colab": {
          "base_uri": "https://localhost:8080/",
          "height": 51
        },
        "outputId": "609a7695-fd5c-4491-fb5d-0df348834890"
      },
      "source": [
        "np.dot(x,y)"
      ],
      "execution_count": 53,
      "outputs": [
        {
          "output_type": "execute_result",
          "data": {
            "text/plain": [
              "array([[22, 28],\n",
              "       [49, 64]])"
            ]
          },
          "metadata": {
            "tags": []
          },
          "execution_count": 53
        }
      ]
    },
    {
      "cell_type": "code",
      "metadata": {
        "id": "ultrhItV8yQf",
        "colab_type": "code",
        "colab": {
          "base_uri": "https://localhost:8080/",
          "height": 34
        },
        "outputId": "f4caadf6-dfa1-4c66-e475-48fb626c771c"
      },
      "source": [
        "#The @ symbol works as an inflix operator which perform matrix multiplication\n",
        "x@np.ones(3)"
      ],
      "execution_count": 54,
      "outputs": [
        {
          "output_type": "execute_result",
          "data": {
            "text/plain": [
              "array([ 6., 15.])"
            ]
          },
          "metadata": {
            "tags": []
          },
          "execution_count": 54
        }
      ]
    },
    {
      "cell_type": "code",
      "metadata": {
        "id": "HP68FodP9hG_",
        "colab_type": "code",
        "colab": {
          "base_uri": "https://localhost:8080/",
          "height": 68
        },
        "outputId": "d74be293-b96c-495f-f0fa-038797df893a"
      },
      "source": [
        "''' numpy.lingag has standard set of matrix decomposition and things like inverse and determinant'''\n",
        "from numpy.linalg import inv, qr\n",
        "Matrix=np.random.rand(3,3)\n",
        "Matrix1=Matrix.T.dot(Matrix)\n",
        "inv(Matrix1)\n",
        "''' The following expression Matrix.T computes the dot product of Matrix with its transpose '''"
      ],
      "execution_count": 56,
      "outputs": [
        {
          "output_type": "execute_result",
          "data": {
            "text/plain": [
              "array([[179.18000048, -44.47331773, -76.1219578 ],\n",
              "       [-44.47331773,  12.65380178,  18.23230875],\n",
              "       [-76.1219578 ,  18.23230875,  33.85120262]])"
            ]
          },
          "metadata": {
            "tags": []
          },
          "execution_count": 56
        }
      ]
    },
    {
      "cell_type": "code",
      "metadata": {
        "id": "_6B-IWI---qm",
        "colab_type": "code",
        "colab": {
          "base_uri": "https://localhost:8080/",
          "height": 68
        },
        "outputId": "a3406ccc-b8b1-4027-ed46-3aafeaff1c4c"
      },
      "source": [
        "Matrix1.dot(inv(Matrix1))"
      ],
      "execution_count": 57,
      "outputs": [
        {
          "output_type": "execute_result",
          "data": {
            "text/plain": [
              "array([[ 1.00000000e+00,  2.67816543e-16,  1.94854917e-15],\n",
              "       [-1.06719719e-16,  1.00000000e+00, -3.12359746e-15],\n",
              "       [ 3.25668830e-15, -8.50102852e-16,  1.00000000e+00]])"
            ]
          },
          "metadata": {
            "tags": []
          },
          "execution_count": 57
        }
      ]
    },
    {
      "cell_type": "code",
      "metadata": {
        "id": "uPdINfl9_fjZ",
        "colab_type": "code",
        "colab": {
          "base_uri": "https://localhost:8080/",
          "height": 68
        },
        "outputId": "54049c65-490c-4033-90c3-79137b2851bd"
      },
      "source": [
        "Matrix2=np.random.rand(3,3)\n",
        "Matrix2"
      ],
      "execution_count": 61,
      "outputs": [
        {
          "output_type": "execute_result",
          "data": {
            "text/plain": [
              "array([[0.26321256, 0.92867456, 0.99378536],\n",
              "       [0.37607506, 0.6004471 , 0.78935409],\n",
              "       [0.14538795, 0.90679996, 0.69119013]])"
            ]
          },
          "metadata": {
            "tags": []
          },
          "execution_count": 61
        }
      ]
    },
    {
      "cell_type": "code",
      "metadata": {
        "id": "8H5D6gljEy6R",
        "colab_type": "code",
        "colab": {
          "base_uri": "https://localhost:8080/",
          "height": 34
        },
        "outputId": "46362a9f-38ff-441f-eb0e-cc001105d6f5"
      },
      "source": [
        "#Return the diagonal or off diagonal elements of a square matrix as 1-D array or convert a 1D arrays with Zeros on the off-diagonal\n",
        "np.diag(Matrix2)"
      ],
      "execution_count": 62,
      "outputs": [
        {
          "output_type": "execute_result",
          "data": {
            "text/plain": [
              "array([0.26321256, 0.6004471 , 0.69119013])"
            ]
          },
          "metadata": {
            "tags": []
          },
          "execution_count": 62
        }
      ]
    },
    {
      "cell_type": "code",
      "metadata": {
        "id": "sOneQdO-FMMM",
        "colab_type": "code",
        "colab": {
          "base_uri": "https://localhost:8080/",
          "height": 34
        },
        "outputId": "dcbd6d85-326e-43d8-bbb1-edc2af52d734"
      },
      "source": [
        "#Compute the sum of the diagonal elements\n",
        "np.trace(Matrix2)"
      ],
      "execution_count": 63,
      "outputs": [
        {
          "output_type": "execute_result",
          "data": {
            "text/plain": [
              "1.5548497947286037"
            ]
          },
          "metadata": {
            "tags": []
          },
          "execution_count": 63
        }
      ]
    },
    {
      "cell_type": "code",
      "metadata": {
        "id": "lTfD2XLFFkTi",
        "colab_type": "code",
        "colab": {
          "base_uri": "https://localhost:8080/",
          "height": 34
        },
        "outputId": "1781f412-2e31-4b40-b823-43089d0f17ab"
      },
      "source": [
        "#Compute the matrix determinant\n",
        "np.linalg.det(Matrix2)"
      ],
      "execution_count": 67,
      "outputs": [
        {
          "output_type": "execute_result",
          "data": {
            "text/plain": [
              "0.03816361815522596"
            ]
          },
          "metadata": {
            "tags": []
          },
          "execution_count": 67
        }
      ]
    },
    {
      "cell_type": "code",
      "metadata": {
        "id": "pi8DENp6F4CJ",
        "colab_type": "code",
        "colab": {
          "base_uri": "https://localhost:8080/",
          "height": 153
        },
        "outputId": "d98e9cf7-ff2f-4f99-884a-c25bd5cde56b"
      },
      "source": [
        "#Compute the eigenvalues and eigenvectors of a square matrix\n",
        "np.linalg.eig(Matrix2)"
      ],
      "execution_count": 68,
      "outputs": [
        {
          "output_type": "execute_result",
          "data": {
            "text/plain": [
              "(array([ 1.81661751+0.j        , -0.13088386+0.06226942j,\n",
              "        -0.13088386-0.06226942j]),\n",
              " array([[-0.65823779+0.j        ,  0.35711448+0.26935629j,\n",
              "          0.35711448-0.26935629j],\n",
              "        [-0.54238527+0.j        ,  0.56552821-0.09036001j,\n",
              "          0.56552821+0.09036001j],\n",
              "        [-0.52205482+0.j        , -0.68697114+0.j        ,\n",
              "         -0.68697114-0.j        ]]))"
            ]
          },
          "metadata": {
            "tags": []
          },
          "execution_count": 68
        }
      ]
    },
    {
      "cell_type": "code",
      "metadata": {
        "id": "kpQ1c-fXGfte",
        "colab_type": "code",
        "colab": {
          "base_uri": "https://localhost:8080/",
          "height": 68
        },
        "outputId": "e9c72654-1013-419b-b557-567113025368"
      },
      "source": [
        "#Compute the inverse of a square matrix\n",
        "np.linalg.inv(Matrix2)"
      ],
      "execution_count": 69,
      "outputs": [
        {
          "output_type": "execute_result",
          "data": {
            "text/plain": [
              "array([[-7.88088648,  6.79374357,  3.57244739],\n",
              "       [-3.80406259,  0.98118329,  4.34890568],\n",
              "       [ 6.64840189, -2.71627929, -5.01016748]])"
            ]
          },
          "metadata": {
            "tags": []
          },
          "execution_count": 69
        }
      ]
    },
    {
      "cell_type": "code",
      "metadata": {
        "id": "xTtDal5qGvmQ",
        "colab_type": "code",
        "colab": {
          "base_uri": "https://localhost:8080/",
          "height": 68
        },
        "outputId": "19b744f2-d00f-4ca0-b003-5ad1027b199d"
      },
      "source": [
        "#Compute the Moore-Penrose pseudo inverse of a matrix\n",
        "np.linalg.pinv(Matrix2)"
      ],
      "execution_count": 70,
      "outputs": [
        {
          "output_type": "execute_result",
          "data": {
            "text/plain": [
              "array([[-7.88088648,  6.79374357,  3.57244739],\n",
              "       [-3.80406259,  0.98118329,  4.34890568],\n",
              "       [ 6.64840189, -2.71627929, -5.01016748]])"
            ]
          },
          "metadata": {
            "tags": []
          },
          "execution_count": 70
        }
      ]
    },
    {
      "cell_type": "code",
      "metadata": {
        "id": "zyzvgt5THKG_",
        "colab_type": "code",
        "colab": {
          "base_uri": "https://localhost:8080/",
          "height": 119
        },
        "outputId": "0c0528c5-e3bc-405a-f5ba-d3aa25ef42e7"
      },
      "source": [
        "#Compute the qr decomposition\n",
        "np.linalg.qr(Matrix2)"
      ],
      "execution_count": 71,
      "outputs": [
        {
          "output_type": "execute_result",
          "data": {
            "text/plain": [
              "(array([[-0.54664095,  0.35320663, -0.75922905],\n",
              "        [-0.78103426, -0.54200248,  0.31019156],\n",
              "        [-0.30194231,  0.76254731,  0.57214723]]),\n",
              " array([[-0.48150904, -1.25042258, -1.3684559 ],\n",
              "        [ 0.        ,  0.69404806,  0.45024488],\n",
              "        [ 0.        ,  0.        , -0.11419723]]))"
            ]
          },
          "metadata": {
            "tags": []
          },
          "execution_count": 71
        }
      ]
    },
    {
      "cell_type": "code",
      "metadata": {
        "id": "pTp8HR3_HfWW",
        "colab_type": "code",
        "colab": {
          "base_uri": "https://localhost:8080/",
          "height": 136
        },
        "outputId": "acfdf691-d14f-455a-b6e0-4658b37c80bf"
      },
      "source": [
        "#Compute the singular value decomposition (SVD)\n",
        "np.linalg.svd(Matrix2)"
      ],
      "execution_count": 72,
      "outputs": [
        {
          "output_type": "execute_result",
          "data": {
            "text/plain": [
              "(array([[-0.66868374, -0.01319366, -0.74342987],\n",
              "        [-0.50302725, -0.72827763,  0.4653765 ],\n",
              "        [-0.54756337,  0.68515518,  0.48035064]]),\n",
              " array([2.07045427, 0.27236449, 0.0676758 ]),\n",
              " array([[-0.21482777, -0.68562793, -0.695531  ],\n",
              "        [-0.65260518,  0.63060304, -0.4200551 ],\n",
              "        [ 0.72660547,  0.36366763, -0.58291539]]))"
            ]
          },
          "metadata": {
            "tags": []
          },
          "execution_count": 72
        }
      ]
    },
    {
      "cell_type": "code",
      "metadata": {
        "id": "YNgpVwPXHzeG",
        "colab_type": "code",
        "colab": {
          "base_uri": "https://localhost:8080/",
          "height": 34
        },
        "outputId": "7f675994-8580-40b0-8c0d-9ec707fc99fc"
      },
      "source": [
        "#Solve the linear system Ax=B where A is a Square Matrix\n",
        "np.linalg.solve(Matrix2,[1,2,3])"
      ],
      "execution_count": 73,
      "outputs": [
        {
          "output_type": "execute_result",
          "data": {
            "text/plain": [
              "array([ 16.42394283,  11.20502103, -13.81465915])"
            ]
          },
          "metadata": {
            "tags": []
          },
          "execution_count": 73
        }
      ]
    },
    {
      "cell_type": "code",
      "metadata": {
        "id": "CpVcfNEzJoQE",
        "colab_type": "code",
        "colab": {
          "base_uri": "https://localhost:8080/",
          "height": 156
        },
        "outputId": "773409c5-37a4-4478-acad-74acbdc4495a"
      },
      "source": [
        "#Compute least-squares to Ax=B\n",
        "np.linalg.lstsq(Matrix2,[1,2,3])"
      ],
      "execution_count": 74,
      "outputs": [
        {
          "output_type": "stream",
          "text": [
            "/usr/local/lib/python3.6/dist-packages/ipykernel_launcher.py:2: FutureWarning: `rcond` parameter will change to the default of machine precision times ``max(M, N)`` where M and N are the input matrix dimensions.\n",
            "To use the future default and silence this warning we advise to pass `rcond=None`, to keep using the old, explicitly pass `rcond=-1`.\n",
            "  \n"
          ],
          "name": "stderr"
        },
        {
          "output_type": "execute_result",
          "data": {
            "text/plain": [
              "(array([ 16.42394283,  11.20502103, -13.81465915]),\n",
              " array([], dtype=float64),\n",
              " 3,\n",
              " array([2.07045427, 0.27236449, 0.0676758 ]))"
            ]
          },
          "metadata": {
            "tags": []
          },
          "execution_count": 74
        }
      ]
    },
    {
      "cell_type": "markdown",
      "metadata": {
        "id": "y62OEdCAKHVE",
        "colab_type": "text"
      },
      "source": [
        "# Pseudorandom Number Generation"
      ]
    },
    {
      "cell_type": "markdown",
      "metadata": {
        "id": "NUMtNEzwK0Zm",
        "colab_type": "text"
      },
      "source": [
        "![image.png](data:image/png;base64,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)"
      ]
    },
    {
      "cell_type": "code",
      "metadata": {
        "id": "w0dJTFzmKEPw",
        "colab_type": "code",
        "colab": {
          "base_uri": "https://localhost:8080/",
          "height": 282
        },
        "outputId": "38d2ee14-d20e-42cc-87b4-8c14fdd9443b"
      },
      "source": [
        "import random\n",
        "position=0\n",
        "walk=[position]\n",
        "steps=1000\n",
        "for i in range(steps):\n",
        "  step=1 if random.randint(0,1) else -1\n",
        "  position+=step\n",
        "  walk.append(position)\n",
        "\n",
        "#In order to plot the graph upto 1st 100 values\n",
        "plt.plot(walk[:100])\n"
      ],
      "execution_count": 75,
      "outputs": [
        {
          "output_type": "execute_result",
          "data": {
            "text/plain": [
              "[<matplotlib.lines.Line2D at 0x7f445a3e8d68>]"
            ]
          },
          "metadata": {
            "tags": []
          },
          "execution_count": 75
        },
        {
          "output_type": "display_data",
          "data": {
            "image/png": "[encoded data removed]",
            "text/plain": [
              "<Figure size 432x288 with 1 Axes>"
            ]
          },
          "metadata": {
            "tags": [],
            "needs_background": "light"
          }
        }
      ]
    },
    {
      "cell_type": "code",
      "metadata": {
        "id": "lRnoj-hWMphe",
        "colab_type": "code",
        "colab": {}
      },
      "source": [
        "nsteps=1000\n",
        "draws=np.random.randint(0,2,size=nsteps)"
      ],
      "execution_count": 76,
      "outputs": []
    },
    {
      "cell_type": "code",
      "metadata": {
        "id": "HQLA62qCNh5A",
        "colab_type": "code",
        "colab": {}
      },
      "source": [
        "steps=np.where(draws>0,1,-1)"
      ],
      "execution_count": 77,
      "outputs": []
    },
    {
      "cell_type": "code",
      "metadata": {
        "id": "oe_Y_NVJN7a3",
        "colab_type": "code",
        "colab": {}
      },
      "source": [
        "walk=steps.cumsum()"
      ],
      "execution_count": 79,
      "outputs": []
    },
    {
      "cell_type": "code",
      "metadata": {
        "id": "tRJa19YoOBL_",
        "colab_type": "code",
        "colab": {
          "base_uri": "https://localhost:8080/",
          "height": 34
        },
        "outputId": "dcfa1c23-0717-4aac-b6c3-1ec9fc88602e"
      },
      "source": [
        "walk.min()"
      ],
      "execution_count": 80,
      "outputs": [
        {
          "output_type": "execute_result",
          "data": {
            "text/plain": [
              "-15"
            ]
          },
          "metadata": {
            "tags": []
          },
          "execution_count": 80
        }
      ]
    },
    {
      "cell_type": "code",
      "metadata": {
        "id": "SpdHDFGoOHbn",
        "colab_type": "code",
        "colab": {
          "base_uri": "https://localhost:8080/",
          "height": 34
        },
        "outputId": "f186c428-3c89-4eac-f19f-5e0bf260f583"
      },
      "source": [
        "walk.max()"
      ],
      "execution_count": 81,
      "outputs": [
        {
          "output_type": "execute_result",
          "data": {
            "text/plain": [
              "28"
            ]
          },
          "metadata": {
            "tags": []
          },
          "execution_count": 81
        }
      ]
    },
    {
      "cell_type": "code",
      "metadata": {
        "id": "m2VSQNnaOJpW",
        "colab_type": "code",
        "colab": {}
      },
      "source": [
        ""
      ],
      "execution_count": null,
      "outputs": []
    }
  ]
}